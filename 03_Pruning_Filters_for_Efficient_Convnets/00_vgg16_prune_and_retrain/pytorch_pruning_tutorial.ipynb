{
  "cells": [
    {
      "cell_type": "code",
      "execution_count": 339,
      "metadata": {
        "collapsed": false
      },
      "outputs": [],
      "source": [
        "# For tips on running notebooks in Google Colab, see\n",
        "# https://pytorch.org/tutorials/beginner/colab\n",
        "%matplotlib inline"
      ]
    },
    {
      "cell_type": "markdown",
      "metadata": {},
      "source": [
        "\n",
        "# Pruning Tutorial\n",
        "**Author**: [Michela Paganini](https://github.com/mickypaganini)\n",
        "\n",
        "State-of-the-art deep learning techniques rely on over-parametrized models \n",
        "that are hard to deploy. On the contrary, biological neural networks are \n",
        "known to use efficient sparse connectivity. Identifying optimal  \n",
        "techniques to compress models by reducing the number of parameters in them is \n",
        "important in order to reduce memory, battery, and hardware consumption without \n",
        "sacrificing accuracy. This in turn allows you to deploy lightweight models on device, and guarantee \n",
        "privacy with private on-device computation. On the research front, pruning is \n",
        "used to investigate the differences in learning dynamics between \n",
        "over-parametrized and under-parametrized networks, to study the role of lucky \n",
        "sparse subnetworks and initializations\n",
        "(\"[lottery tickets](https://arxiv.org/abs/1803.03635)\") as a destructive \n",
        "neural architecture search technique, and more.\n",
        "\n",
        "In this tutorial, you will learn how to use ``torch.nn.utils.prune`` to \n",
        "sparsify your neural networks, and how to extend it to implement your \n",
        "own custom pruning technique.\n",
        "\n",
        "## Requirements\n",
        "``\"torch>=1.4.0a0+8e8a5e0\"``\n"
      ]
    },
    {
      "cell_type": "code",
      "execution_count": 340,
      "metadata": {
        "collapsed": false
      },
      "outputs": [],
      "source": [
        "import torch\n",
        "from torch import nn\n",
        "import torch.nn.utils.prune as prune\n",
        "import torch.nn.functional as F"
      ]
    },
    {
      "cell_type": "markdown",
      "metadata": {},
      "source": [
        "## Create a model\n",
        "\n",
        "In this tutorial, we use the [LeNet](http://yann.lecun.com/exdb/publis/pdf/lecun-98.pdf) architecture from \n",
        "LeCun et al., 1998.\n",
        "\n"
      ]
    },
    {
      "cell_type": "code",
      "execution_count": 341,
      "metadata": {
        "collapsed": false
      },
      "outputs": [],
      "source": [
        "device = torch.device(\"cuda\" if torch.cuda.is_available() else \"cpu\")\n",
        "\n",
        "class LeNet(nn.Module):\n",
        "    def __init__(self):\n",
        "        super(LeNet, self).__init__()\n",
        "        # 1 input image channel, 6 output channels, 5x5 square conv kernel\n",
        "        self.conv1 = nn.Conv2d(1, 6, 5)\n",
        "        self.conv2 = nn.Conv2d(6, 16, 5)\n",
        "        self.fc1 = nn.Linear(16 * 5 * 5, 120)  # 5x5 image dimension\n",
        "        self.fc2 = nn.Linear(120, 84)\n",
        "        self.fc3 = nn.Linear(84, 10)\n",
        "\n",
        "    def forward(self, x):\n",
        "        x = F.max_pool2d(F.relu(self.conv1(x)), (2, 2))\n",
        "        x = F.max_pool2d(F.relu(self.conv2(x)), 2)\n",
        "        x = x.view(-1, int(x.nelement() / x.shape[0]))\n",
        "        x = F.relu(self.fc1(x))\n",
        "        x = F.relu(self.fc2(x))\n",
        "        x = self.fc3(x)\n",
        "        return x\n",
        "\n",
        "model = LeNet().to(device=device)"
      ]
    },
    {
      "cell_type": "markdown",
      "metadata": {},
      "source": [
        "## Inspect a Module\n",
        "\n",
        "Let's inspect the (unpruned) ``conv1`` layer in our LeNet model. It will contain two \n",
        "parameters ``weight`` and ``bias``, and no buffers, for now.\n",
        "\n"
      ]
    },
    {
      "cell_type": "code",
      "execution_count": 342,
      "metadata": {
        "collapsed": false
      },
      "outputs": [
        {
          "name": "stdout",
          "output_type": "stream",
          "text": [
            "[('weight', Parameter containing:\n",
            "tensor([[[[-0.0127,  0.0782, -0.0058, -0.1070,  0.0951],\n",
            "          [ 0.1345,  0.1946, -0.0449, -0.0744,  0.0683],\n",
            "          [-0.0306, -0.1795, -0.0415, -0.1023,  0.1991],\n",
            "          [ 0.1919, -0.1782, -0.1056,  0.0061, -0.1167],\n",
            "          [ 0.1642,  0.1023,  0.1736, -0.1871,  0.1256]]],\n",
            "\n",
            "\n",
            "        [[[ 0.1065,  0.1169, -0.1000,  0.1916,  0.1710],\n",
            "          [ 0.1697,  0.1791, -0.0547,  0.0813,  0.1532],\n",
            "          [ 0.0914,  0.0042,  0.1993,  0.0405, -0.0602],\n",
            "          [-0.1282,  0.0678,  0.0951,  0.0611, -0.1042],\n",
            "          [ 0.1778,  0.0239,  0.0303, -0.1843,  0.0940]]],\n",
            "\n",
            "\n",
            "        [[[-0.0734,  0.0434, -0.1593,  0.1504,  0.0584],\n",
            "          [ 0.1101,  0.0523, -0.0252,  0.0150,  0.0769],\n",
            "          [-0.1885, -0.0701,  0.1223,  0.1174, -0.1443],\n",
            "          [-0.0767,  0.1340,  0.1822,  0.1231,  0.0232],\n",
            "          [-0.1726,  0.1156,  0.0303,  0.0119, -0.0905]]],\n",
            "\n",
            "\n",
            "        [[[-0.1018, -0.1944, -0.1024, -0.0463, -0.0007],\n",
            "          [ 0.0161,  0.1116,  0.0632,  0.1216, -0.0790],\n",
            "          [ 0.1141,  0.1942,  0.0676,  0.1704, -0.1388],\n",
            "          [ 0.0119, -0.0064, -0.1020, -0.0283, -0.0504],\n",
            "          [ 0.0431, -0.1785, -0.1798, -0.0886,  0.0241]]],\n",
            "\n",
            "\n",
            "        [[[ 0.0890, -0.0414,  0.1304,  0.1406,  0.1878],\n",
            "          [ 0.1958,  0.1840, -0.0629, -0.0754, -0.0415],\n",
            "          [ 0.1754, -0.1342, -0.0300, -0.0214,  0.0863],\n",
            "          [ 0.1313,  0.1027, -0.0663, -0.0926,  0.0716],\n",
            "          [-0.1114,  0.0304, -0.0391,  0.1357, -0.1423]]],\n",
            "\n",
            "\n",
            "        [[[-0.1916,  0.1560, -0.0981, -0.0059,  0.1694],\n",
            "          [ 0.1043,  0.0152,  0.1674,  0.1475, -0.1619],\n",
            "          [-0.1051,  0.0655,  0.1332,  0.0500, -0.1772],\n",
            "          [-0.1050, -0.0918,  0.1397,  0.0795,  0.0804],\n",
            "          [ 0.1027, -0.0557,  0.0976, -0.1803, -0.1438]]]], device='cuda:0',\n",
            "       requires_grad=True)), ('bias', Parameter containing:\n",
            "tensor([-0.0361, -0.0131,  0.1658, -0.1877,  0.1818, -0.1425], device='cuda:0',\n",
            "       requires_grad=True))]\n"
          ]
        }
      ],
      "source": [
        "module = model.conv1\n",
        "print(list(module.named_parameters())) # -> weight, bias"
      ]
    },
    {
      "cell_type": "code",
      "execution_count": 343,
      "metadata": {
        "collapsed": false
      },
      "outputs": [
        {
          "name": "stdout",
          "output_type": "stream",
          "text": [
            "[]\n"
          ]
        }
      ],
      "source": [
        "print(list(module.named_buffers()))"
      ]
    },
    {
      "cell_type": "markdown",
      "metadata": {},
      "source": [
        "## Pruning a Module\n",
        "\n",
        "To prune a module (in this example, the ``conv1`` layer of our LeNet \n",
        "architecture), first select a pruning technique among those available in \n",
        "``torch.nn.utils.prune`` (or\n",
        "[implement](#extending-torch-nn-utils-pruning-with-custom-pruning-functions)\n",
        "your own by subclassing \n",
        "``BasePruningMethod``). Then, specify the module and the name of the parameter to \n",
        "prune within that module. Finally, using the adequate keyword arguments \n",
        "required by the selected pruning technique, specify the pruning parameters.\n",
        "\n",
        "In this example, we will prune at random 30% of the connections in \n",
        "the parameter named ``weight`` in the ``conv1`` layer.\n",
        "The module is passed as the first argument to the function; ``name`` \n",
        "identifies the parameter within that module using its string identifier; and \n",
        "``amount`` indicates either the percentage of connections to prune (if it \n",
        "is a float between 0. and 1.), or the absolute number of connections to \n",
        "prune (if it is a non-negative integer).\n",
        "\n"
      ]
    },
    {
      "cell_type": "code",
      "execution_count": 344,
      "metadata": {
        "collapsed": false
      },
      "outputs": [
        {
          "data": {
            "text/plain": [
              "Conv2d(1, 6, kernel_size=(5, 5), stride=(1, 1))"
            ]
          },
          "execution_count": 344,
          "metadata": {},
          "output_type": "execute_result"
        }
      ],
      "source": [
        "prune.random_unstructured(module, name=\"weight\", amount=0.3)"
      ]
    },
    {
      "cell_type": "markdown",
      "metadata": {},
      "source": [
        "Pruning acts by removing ``weight`` from the parameters and replacing it with \n",
        "a new parameter called ``weight_orig`` (i.e. appending ``\"_orig\"`` to the \n",
        "initial parameter ``name``). ``weight_orig`` stores the unpruned version of \n",
        "the tensor. The ``bias`` was not pruned, so it will remain intact.\n",
        "\n"
      ]
    },
    {
      "cell_type": "code",
      "execution_count": 345,
      "metadata": {
        "collapsed": false
      },
      "outputs": [
        {
          "name": "stdout",
          "output_type": "stream",
          "text": [
            "[('bias', Parameter containing:\n",
            "tensor([-0.0361, -0.0131,  0.1658, -0.1877,  0.1818, -0.1425], device='cuda:0',\n",
            "       requires_grad=True)), ('weight_orig', Parameter containing:\n",
            "tensor([[[[-0.0127,  0.0782, -0.0058, -0.1070,  0.0951],\n",
            "          [ 0.1345,  0.1946, -0.0449, -0.0744,  0.0683],\n",
            "          [-0.0306, -0.1795, -0.0415, -0.1023,  0.1991],\n",
            "          [ 0.1919, -0.1782, -0.1056,  0.0061, -0.1167],\n",
            "          [ 0.1642,  0.1023,  0.1736, -0.1871,  0.1256]]],\n",
            "\n",
            "\n",
            "        [[[ 0.1065,  0.1169, -0.1000,  0.1916,  0.1710],\n",
            "          [ 0.1697,  0.1791, -0.0547,  0.0813,  0.1532],\n",
            "          [ 0.0914,  0.0042,  0.1993,  0.0405, -0.0602],\n",
            "          [-0.1282,  0.0678,  0.0951,  0.0611, -0.1042],\n",
            "          [ 0.1778,  0.0239,  0.0303, -0.1843,  0.0940]]],\n",
            "\n",
            "\n",
            "        [[[-0.0734,  0.0434, -0.1593,  0.1504,  0.0584],\n",
            "          [ 0.1101,  0.0523, -0.0252,  0.0150,  0.0769],\n",
            "          [-0.1885, -0.0701,  0.1223,  0.1174, -0.1443],\n",
            "          [-0.0767,  0.1340,  0.1822,  0.1231,  0.0232],\n",
            "          [-0.1726,  0.1156,  0.0303,  0.0119, -0.0905]]],\n",
            "\n",
            "\n",
            "        [[[-0.1018, -0.1944, -0.1024, -0.0463, -0.0007],\n",
            "          [ 0.0161,  0.1116,  0.0632,  0.1216, -0.0790],\n",
            "          [ 0.1141,  0.1942,  0.0676,  0.1704, -0.1388],\n",
            "          [ 0.0119, -0.0064, -0.1020, -0.0283, -0.0504],\n",
            "          [ 0.0431, -0.1785, -0.1798, -0.0886,  0.0241]]],\n",
            "\n",
            "\n",
            "        [[[ 0.0890, -0.0414,  0.1304,  0.1406,  0.1878],\n",
            "          [ 0.1958,  0.1840, -0.0629, -0.0754, -0.0415],\n",
            "          [ 0.1754, -0.1342, -0.0300, -0.0214,  0.0863],\n",
            "          [ 0.1313,  0.1027, -0.0663, -0.0926,  0.0716],\n",
            "          [-0.1114,  0.0304, -0.0391,  0.1357, -0.1423]]],\n",
            "\n",
            "\n",
            "        [[[-0.1916,  0.1560, -0.0981, -0.0059,  0.1694],\n",
            "          [ 0.1043,  0.0152,  0.1674,  0.1475, -0.1619],\n",
            "          [-0.1051,  0.0655,  0.1332,  0.0500, -0.1772],\n",
            "          [-0.1050, -0.0918,  0.1397,  0.0795,  0.0804],\n",
            "          [ 0.1027, -0.0557,  0.0976, -0.1803, -0.1438]]]], device='cuda:0',\n",
            "       requires_grad=True))]\n"
          ]
        }
      ],
      "source": [
        "print(list(module.named_parameters())) # -> 'weight_orig' : stores the unpruned version, 'bias'"
      ]
    },
    {
      "cell_type": "markdown",
      "metadata": {},
      "source": [
        "The pruning mask generated by the pruning technique selected above is saved \n",
        "as a module buffer named ``weight_mask`` (i.e. appending ``\"_mask\"`` to the \n",
        "initial parameter ``name``).\n",
        "\n"
      ]
    },
    {
      "cell_type": "code",
      "execution_count": 346,
      "metadata": {
        "collapsed": false
      },
      "outputs": [
        {
          "name": "stdout",
          "output_type": "stream",
          "text": [
            "[('weight_mask', tensor([[[[0., 0., 1., 1., 0.],\n",
            "          [1., 1., 0., 1., 1.],\n",
            "          [1., 1., 1., 0., 1.],\n",
            "          [1., 1., 1., 1., 1.],\n",
            "          [1., 0., 1., 1., 0.]]],\n",
            "\n",
            "\n",
            "        [[[1., 1., 0., 1., 1.],\n",
            "          [0., 1., 1., 1., 1.],\n",
            "          [0., 0., 1., 1., 1.],\n",
            "          [1., 1., 0., 0., 0.],\n",
            "          [1., 1., 1., 1., 1.]]],\n",
            "\n",
            "\n",
            "        [[[1., 0., 1., 0., 1.],\n",
            "          [1., 0., 1., 1., 1.],\n",
            "          [1., 1., 1., 0., 0.],\n",
            "          [1., 0., 0., 0., 0.],\n",
            "          [0., 1., 1., 1., 1.]]],\n",
            "\n",
            "\n",
            "        [[[1., 1., 1., 1., 0.],\n",
            "          [0., 0., 0., 1., 0.],\n",
            "          [0., 1., 1., 1., 0.],\n",
            "          [1., 1., 1., 1., 1.],\n",
            "          [1., 1., 1., 0., 1.]]],\n",
            "\n",
            "\n",
            "        [[[1., 1., 1., 0., 1.],\n",
            "          [0., 1., 1., 0., 1.],\n",
            "          [0., 1., 1., 1., 1.],\n",
            "          [1., 1., 1., 0., 0.],\n",
            "          [1., 1., 1., 1., 0.]]],\n",
            "\n",
            "\n",
            "        [[[1., 0., 1., 1., 0.],\n",
            "          [0., 1., 0., 1., 1.],\n",
            "          [1., 1., 1., 1., 0.],\n",
            "          [1., 1., 1., 1., 1.],\n",
            "          [0., 1., 1., 1., 1.]]]], device='cuda:0'))]\n"
          ]
        }
      ],
      "source": [
        "print(list(module.named_buffers()))"
      ]
    },
    {
      "cell_type": "markdown",
      "metadata": {},
      "source": [
        "For the forward pass to work without modification, the ``weight`` attribute \n",
        "needs to exist. The pruning techniques implemented in \n",
        "``torch.nn.utils.prune`` compute the pruned version of the weight (by \n",
        "combining the mask with the original parameter) and store them in the \n",
        "attribute ``weight``. Note, this is no longer a parameter of the ``module``,\n",
        "it is now simply an attribute.\n",
        "\n"
      ]
    },
    {
      "cell_type": "code",
      "execution_count": 347,
      "metadata": {
        "collapsed": false
      },
      "outputs": [
        {
          "name": "stdout",
          "output_type": "stream",
          "text": [
            "tensor([[[[-0.0000,  0.0000, -0.0058, -0.1070,  0.0000],\n",
            "          [ 0.1345,  0.1946, -0.0000, -0.0744,  0.0683],\n",
            "          [-0.0306, -0.1795, -0.0415, -0.0000,  0.1991],\n",
            "          [ 0.1919, -0.1782, -0.1056,  0.0061, -0.1167],\n",
            "          [ 0.1642,  0.0000,  0.1736, -0.1871,  0.0000]]],\n",
            "\n",
            "\n",
            "        [[[ 0.1065,  0.1169, -0.0000,  0.1916,  0.1710],\n",
            "          [ 0.0000,  0.1791, -0.0547,  0.0813,  0.1532],\n",
            "          [ 0.0000,  0.0000,  0.1993,  0.0405, -0.0602],\n",
            "          [-0.1282,  0.0678,  0.0000,  0.0000, -0.0000],\n",
            "          [ 0.1778,  0.0239,  0.0303, -0.1843,  0.0940]]],\n",
            "\n",
            "\n",
            "        [[[-0.0734,  0.0000, -0.1593,  0.0000,  0.0584],\n",
            "          [ 0.1101,  0.0000, -0.0252,  0.0150,  0.0769],\n",
            "          [-0.1885, -0.0701,  0.1223,  0.0000, -0.0000],\n",
            "          [-0.0767,  0.0000,  0.0000,  0.0000,  0.0000],\n",
            "          [-0.0000,  0.1156,  0.0303,  0.0119, -0.0905]]],\n",
            "\n",
            "\n",
            "        [[[-0.1018, -0.1944, -0.1024, -0.0463, -0.0000],\n",
            "          [ 0.0000,  0.0000,  0.0000,  0.1216, -0.0000],\n",
            "          [ 0.0000,  0.1942,  0.0676,  0.1704, -0.0000],\n",
            "          [ 0.0119, -0.0064, -0.1020, -0.0283, -0.0504],\n",
            "          [ 0.0431, -0.1785, -0.1798, -0.0000,  0.0241]]],\n",
            "\n",
            "\n",
            "        [[[ 0.0890, -0.0414,  0.1304,  0.0000,  0.1878],\n",
            "          [ 0.0000,  0.1840, -0.0629, -0.0000, -0.0415],\n",
            "          [ 0.0000, -0.1342, -0.0300, -0.0214,  0.0863],\n",
            "          [ 0.1313,  0.1027, -0.0663, -0.0000,  0.0000],\n",
            "          [-0.1114,  0.0304, -0.0391,  0.1357, -0.0000]]],\n",
            "\n",
            "\n",
            "        [[[-0.1916,  0.0000, -0.0981, -0.0059,  0.0000],\n",
            "          [ 0.0000,  0.0152,  0.0000,  0.1475, -0.1619],\n",
            "          [-0.1051,  0.0655,  0.1332,  0.0500, -0.0000],\n",
            "          [-0.1050, -0.0918,  0.1397,  0.0795,  0.0804],\n",
            "          [ 0.0000, -0.0557,  0.0976, -0.1803, -0.1438]]]], device='cuda:0',\n",
            "       grad_fn=<MulBackward0>)\n"
          ]
        }
      ],
      "source": [
        "print(module.weight)"
      ]
    },
    {
      "cell_type": "markdown",
      "metadata": {},
      "source": [
        "Finally, pruning is applied prior to each forward pass using PyTorch's\n",
        "``forward_pre_hooks``. Specifically, when the ``module`` is pruned, as we \n",
        "have done here, it will acquire a ``forward_pre_hook`` for each parameter \n",
        "associated with it that gets pruned. In this case, since we have so far \n",
        "only pruned the original parameter named ``weight``, only one hook will be\n",
        "present.\n",
        "\n"
      ]
    },
    {
      "cell_type": "code",
      "execution_count": 348,
      "metadata": {
        "collapsed": false
      },
      "outputs": [
        {
          "name": "stdout",
          "output_type": "stream",
          "text": [
            "OrderedDict([(142, <torch.nn.utils.prune.RandomUnstructured object at 0x7f2c3027f0d0>)])\n"
          ]
        }
      ],
      "source": [
        "print(module._forward_pre_hooks)"
      ]
    },
    {
      "cell_type": "markdown",
      "metadata": {},
      "source": [
        "For completeness, we can now prune the ``bias`` too, to see how the \n",
        "parameters, buffers, hooks, and attributes of the ``module`` change.\n",
        "Just for the sake of trying out another pruning technique, here we prune the \n",
        "3 smallest entries in the bias by L1 norm, as implemented in the \n",
        "``l1_unstructured`` pruning function.\n",
        "\n"
      ]
    },
    {
      "cell_type": "code",
      "execution_count": 349,
      "metadata": {
        "collapsed": false
      },
      "outputs": [
        {
          "data": {
            "text/plain": [
              "Conv2d(1, 6, kernel_size=(5, 5), stride=(1, 1))"
            ]
          },
          "execution_count": 349,
          "metadata": {},
          "output_type": "execute_result"
        }
      ],
      "source": [
        "prune.l1_unstructured(module, name=\"bias\", amount=3)"
      ]
    },
    {
      "cell_type": "markdown",
      "metadata": {},
      "source": [
        "We now expect the named parameters to include both ``weight_orig`` (from \n",
        "before) and ``bias_orig``. The buffers will include ``weight_mask`` and \n",
        "``bias_mask``. The pruned versions of the two tensors will exist as \n",
        "module attributes, and the module will now have two ``forward_pre_hooks``.\n",
        "\n"
      ]
    },
    {
      "cell_type": "code",
      "execution_count": 350,
      "metadata": {
        "collapsed": false
      },
      "outputs": [
        {
          "name": "stdout",
          "output_type": "stream",
          "text": [
            "[('weight_orig', Parameter containing:\n",
            "tensor([[[[-0.0127,  0.0782, -0.0058, -0.1070,  0.0951],\n",
            "          [ 0.1345,  0.1946, -0.0449, -0.0744,  0.0683],\n",
            "          [-0.0306, -0.1795, -0.0415, -0.1023,  0.1991],\n",
            "          [ 0.1919, -0.1782, -0.1056,  0.0061, -0.1167],\n",
            "          [ 0.1642,  0.1023,  0.1736, -0.1871,  0.1256]]],\n",
            "\n",
            "\n",
            "        [[[ 0.1065,  0.1169, -0.1000,  0.1916,  0.1710],\n",
            "          [ 0.1697,  0.1791, -0.0547,  0.0813,  0.1532],\n",
            "          [ 0.0914,  0.0042,  0.1993,  0.0405, -0.0602],\n",
            "          [-0.1282,  0.0678,  0.0951,  0.0611, -0.1042],\n",
            "          [ 0.1778,  0.0239,  0.0303, -0.1843,  0.0940]]],\n",
            "\n",
            "\n",
            "        [[[-0.0734,  0.0434, -0.1593,  0.1504,  0.0584],\n",
            "          [ 0.1101,  0.0523, -0.0252,  0.0150,  0.0769],\n",
            "          [-0.1885, -0.0701,  0.1223,  0.1174, -0.1443],\n",
            "          [-0.0767,  0.1340,  0.1822,  0.1231,  0.0232],\n",
            "          [-0.1726,  0.1156,  0.0303,  0.0119, -0.0905]]],\n",
            "\n",
            "\n",
            "        [[[-0.1018, -0.1944, -0.1024, -0.0463, -0.0007],\n",
            "          [ 0.0161,  0.1116,  0.0632,  0.1216, -0.0790],\n",
            "          [ 0.1141,  0.1942,  0.0676,  0.1704, -0.1388],\n",
            "          [ 0.0119, -0.0064, -0.1020, -0.0283, -0.0504],\n",
            "          [ 0.0431, -0.1785, -0.1798, -0.0886,  0.0241]]],\n",
            "\n",
            "\n",
            "        [[[ 0.0890, -0.0414,  0.1304,  0.1406,  0.1878],\n",
            "          [ 0.1958,  0.1840, -0.0629, -0.0754, -0.0415],\n",
            "          [ 0.1754, -0.1342, -0.0300, -0.0214,  0.0863],\n",
            "          [ 0.1313,  0.1027, -0.0663, -0.0926,  0.0716],\n",
            "          [-0.1114,  0.0304, -0.0391,  0.1357, -0.1423]]],\n",
            "\n",
            "\n",
            "        [[[-0.1916,  0.1560, -0.0981, -0.0059,  0.1694],\n",
            "          [ 0.1043,  0.0152,  0.1674,  0.1475, -0.1619],\n",
            "          [-0.1051,  0.0655,  0.1332,  0.0500, -0.1772],\n",
            "          [-0.1050, -0.0918,  0.1397,  0.0795,  0.0804],\n",
            "          [ 0.1027, -0.0557,  0.0976, -0.1803, -0.1438]]]], device='cuda:0',\n",
            "       requires_grad=True)), ('bias_orig', Parameter containing:\n",
            "tensor([-0.0361, -0.0131,  0.1658, -0.1877,  0.1818, -0.1425], device='cuda:0',\n",
            "       requires_grad=True))]\n"
          ]
        }
      ],
      "source": [
        "print(list(module.named_parameters()))"
      ]
    },
    {
      "cell_type": "code",
      "execution_count": 351,
      "metadata": {
        "collapsed": false
      },
      "outputs": [
        {
          "name": "stdout",
          "output_type": "stream",
          "text": [
            "[('weight_mask', tensor([[[[0., 0., 1., 1., 0.],\n",
            "          [1., 1., 0., 1., 1.],\n",
            "          [1., 1., 1., 0., 1.],\n",
            "          [1., 1., 1., 1., 1.],\n",
            "          [1., 0., 1., 1., 0.]]],\n",
            "\n",
            "\n",
            "        [[[1., 1., 0., 1., 1.],\n",
            "          [0., 1., 1., 1., 1.],\n",
            "          [0., 0., 1., 1., 1.],\n",
            "          [1., 1., 0., 0., 0.],\n",
            "          [1., 1., 1., 1., 1.]]],\n",
            "\n",
            "\n",
            "        [[[1., 0., 1., 0., 1.],\n",
            "          [1., 0., 1., 1., 1.],\n",
            "          [1., 1., 1., 0., 0.],\n",
            "          [1., 0., 0., 0., 0.],\n",
            "          [0., 1., 1., 1., 1.]]],\n",
            "\n",
            "\n",
            "        [[[1., 1., 1., 1., 0.],\n",
            "          [0., 0., 0., 1., 0.],\n",
            "          [0., 1., 1., 1., 0.],\n",
            "          [1., 1., 1., 1., 1.],\n",
            "          [1., 1., 1., 0., 1.]]],\n",
            "\n",
            "\n",
            "        [[[1., 1., 1., 0., 1.],\n",
            "          [0., 1., 1., 0., 1.],\n",
            "          [0., 1., 1., 1., 1.],\n",
            "          [1., 1., 1., 0., 0.],\n",
            "          [1., 1., 1., 1., 0.]]],\n",
            "\n",
            "\n",
            "        [[[1., 0., 1., 1., 0.],\n",
            "          [0., 1., 0., 1., 1.],\n",
            "          [1., 1., 1., 1., 0.],\n",
            "          [1., 1., 1., 1., 1.],\n",
            "          [0., 1., 1., 1., 1.]]]], device='cuda:0')), ('bias_mask', tensor([0., 0., 1., 1., 1., 0.], device='cuda:0'))]\n"
          ]
        }
      ],
      "source": [
        "print(list(module.named_buffers()))"
      ]
    },
    {
      "cell_type": "code",
      "execution_count": 352,
      "metadata": {
        "collapsed": false
      },
      "outputs": [
        {
          "name": "stdout",
          "output_type": "stream",
          "text": [
            "tensor([-0.0000, -0.0000,  0.1658, -0.1877,  0.1818, -0.0000], device='cuda:0',\n",
            "       grad_fn=<MulBackward0>)\n"
          ]
        }
      ],
      "source": [
        "print(module.bias)"
      ]
    },
    {
      "cell_type": "code",
      "execution_count": 353,
      "metadata": {
        "collapsed": false
      },
      "outputs": [
        {
          "name": "stdout",
          "output_type": "stream",
          "text": [
            "OrderedDict([(142, <torch.nn.utils.prune.RandomUnstructured object at 0x7f2c3027f0d0>), (143, <torch.nn.utils.prune.L1Unstructured object at 0x7f2c3027f970>)])\n"
          ]
        }
      ],
      "source": [
        "print(module._forward_pre_hooks)"
      ]
    },
    {
      "cell_type": "markdown",
      "metadata": {},
      "source": [
        "## Iterative Pruning\n",
        "\n",
        "The same parameter in a module can be pruned multiple times, with the \n",
        "effect of the various pruning calls being equal to the combination of the\n",
        "various masks applied in series.\n",
        "The combination of a new mask with the old mask is handled by the \n",
        "``PruningContainer``'s ``compute_mask`` method.\n",
        "\n",
        "Say, for example, that we now want to further prune ``module.weight``, this\n",
        "time using structured pruning along the 0th axis of the tensor (the 0th axis \n",
        "corresponds to the output channels of the convolutional layer and has \n",
        "dimensionality 6 for ``conv1``), based on the channels' L2 norm. This can be \n",
        "achieved using the ``ln_structured`` function, with ``n=2`` and ``dim=0``.\n",
        "\n"
      ]
    },
    {
      "cell_type": "code",
      "execution_count": 354,
      "metadata": {
        "collapsed": false
      },
      "outputs": [
        {
          "name": "stdout",
          "output_type": "stream",
          "text": [
            "module.weight.shape : torch.Size([6, 1, 5, 5])\n",
            "tensor([[[[-0.0000,  0.0000, -0.0058, -0.1070,  0.0000],\n",
            "          [ 0.1345,  0.1946, -0.0000, -0.0744,  0.0683],\n",
            "          [-0.0306, -0.1795, -0.0415, -0.0000,  0.1991],\n",
            "          [ 0.1919, -0.1782, -0.1056,  0.0061, -0.1167],\n",
            "          [ 0.1642,  0.0000,  0.1736, -0.1871,  0.0000]]],\n",
            "\n",
            "\n",
            "        [[[ 0.1065,  0.1169, -0.0000,  0.1916,  0.1710],\n",
            "          [ 0.0000,  0.1791, -0.0547,  0.0813,  0.1532],\n",
            "          [ 0.0000,  0.0000,  0.1993,  0.0405, -0.0602],\n",
            "          [-0.1282,  0.0678,  0.0000,  0.0000, -0.0000],\n",
            "          [ 0.1778,  0.0239,  0.0303, -0.1843,  0.0940]]],\n",
            "\n",
            "\n",
            "        [[[-0.0000,  0.0000, -0.0000,  0.0000,  0.0000],\n",
            "          [ 0.0000,  0.0000, -0.0000,  0.0000,  0.0000],\n",
            "          [-0.0000, -0.0000,  0.0000,  0.0000, -0.0000],\n",
            "          [-0.0000,  0.0000,  0.0000,  0.0000,  0.0000],\n",
            "          [-0.0000,  0.0000,  0.0000,  0.0000, -0.0000]]],\n",
            "\n",
            "\n",
            "        [[[-0.0000, -0.0000, -0.0000, -0.0000, -0.0000],\n",
            "          [ 0.0000,  0.0000,  0.0000,  0.0000, -0.0000],\n",
            "          [ 0.0000,  0.0000,  0.0000,  0.0000, -0.0000],\n",
            "          [ 0.0000, -0.0000, -0.0000, -0.0000, -0.0000],\n",
            "          [ 0.0000, -0.0000, -0.0000, -0.0000,  0.0000]]],\n",
            "\n",
            "\n",
            "        [[[ 0.0000, -0.0000,  0.0000,  0.0000,  0.0000],\n",
            "          [ 0.0000,  0.0000, -0.0000, -0.0000, -0.0000],\n",
            "          [ 0.0000, -0.0000, -0.0000, -0.0000,  0.0000],\n",
            "          [ 0.0000,  0.0000, -0.0000, -0.0000,  0.0000],\n",
            "          [-0.0000,  0.0000, -0.0000,  0.0000, -0.0000]]],\n",
            "\n",
            "\n",
            "        [[[-0.1916,  0.0000, -0.0981, -0.0059,  0.0000],\n",
            "          [ 0.0000,  0.0152,  0.0000,  0.1475, -0.1619],\n",
            "          [-0.1051,  0.0655,  0.1332,  0.0500, -0.0000],\n",
            "          [-0.1050, -0.0918,  0.1397,  0.0795,  0.0804],\n",
            "          [ 0.0000, -0.0557,  0.0976, -0.1803, -0.1438]]]], device='cuda:0',\n",
            "       grad_fn=<MulBackward0>)\n",
            "module.weight.shape : torch.Size([6, 1, 5, 5])\n"
          ]
        }
      ],
      "source": [
        "print(f\"module.weight.shape : {module.weight.shape}\")\n",
        "prune.ln_structured(module, name=\"weight\", amount=0.5, n=1, dim=0)\n",
        "\n",
        "# As we can verify, this will zero out all the connections corresponding to \n",
        "# 50% (3 out of 6) of the channels, while preserving the action of the \n",
        "# previous mask.\n",
        "print(module.weight)\n",
        "print(f\"module.weight.shape : {module.weight.shape}\")"
      ]
    },
    {
      "cell_type": "markdown",
      "metadata": {},
      "source": [
        "The corresponding hook will now be of type \n",
        "``torch.nn.utils.prune.PruningContainer``, and will store the history of \n",
        "pruning applied to the ``weight`` parameter.\n",
        "\n"
      ]
    },
    {
      "cell_type": "code",
      "execution_count": 355,
      "metadata": {
        "collapsed": false
      },
      "outputs": [
        {
          "name": "stdout",
          "output_type": "stream",
          "text": [
            "[<torch.nn.utils.prune.RandomUnstructured object at 0x7f2c3027f0d0>, <torch.nn.utils.prune.LnStructured object at 0x7f2c3027e6e0>]\n"
          ]
        }
      ],
      "source": [
        "for hook in module._forward_pre_hooks.values():\n",
        "    if hook._tensor_name == \"weight\":  # select out the correct hook\n",
        "        break\n",
        "\n",
        "print(list(hook))  # pruning history in the container"
      ]
    },
    {
      "cell_type": "markdown",
      "metadata": {},
      "source": [
        "## Serializing a pruned model\n",
        "All relevant tensors, including the mask buffers and the original parameters\n",
        "used to compute the pruned tensors are stored in the model's ``state_dict`` \n",
        "and can therefore be easily serialized and saved, if needed.\n",
        "\n"
      ]
    },
    {
      "cell_type": "code",
      "execution_count": 356,
      "metadata": {
        "collapsed": false
      },
      "outputs": [
        {
          "name": "stdout",
          "output_type": "stream",
          "text": [
            "odict_keys(['conv1.weight_orig', 'conv1.bias_orig', 'conv1.weight_mask', 'conv1.bias_mask', 'conv2.weight', 'conv2.bias', 'fc1.weight', 'fc1.bias', 'fc2.weight', 'fc2.bias', 'fc3.weight', 'fc3.bias'])\n"
          ]
        }
      ],
      "source": [
        "print(model.state_dict().keys())"
      ]
    },
    {
      "cell_type": "markdown",
      "metadata": {},
      "source": [
        "## Remove pruning re-parametrization\n",
        "\n",
        "To make the pruning permanent, remove the re-parametrization in terms\n",
        "of ``weight_orig`` and ``weight_mask``, and remove the ``forward_pre_hook``,\n",
        "we can use the ``remove`` functionality from ``torch.nn.utils.prune``.\n",
        "Note that this doesn't undo the pruning, as if it never happened. It simply \n",
        "makes it permanent, instead, by reassigning the parameter ``weight`` to the \n",
        "model parameters, in its pruned version.\n",
        "\n"
      ]
    },
    {
      "cell_type": "markdown",
      "metadata": {},
      "source": [
        "Prior to removing the re-parametrization:\n",
        "\n"
      ]
    },
    {
      "cell_type": "code",
      "execution_count": 357,
      "metadata": {
        "collapsed": false
      },
      "outputs": [
        {
          "name": "stdout",
          "output_type": "stream",
          "text": [
            "[('weight_orig', Parameter containing:\n",
            "tensor([[[[-0.0127,  0.0782, -0.0058, -0.1070,  0.0951],\n",
            "          [ 0.1345,  0.1946, -0.0449, -0.0744,  0.0683],\n",
            "          [-0.0306, -0.1795, -0.0415, -0.1023,  0.1991],\n",
            "          [ 0.1919, -0.1782, -0.1056,  0.0061, -0.1167],\n",
            "          [ 0.1642,  0.1023,  0.1736, -0.1871,  0.1256]]],\n",
            "\n",
            "\n",
            "        [[[ 0.1065,  0.1169, -0.1000,  0.1916,  0.1710],\n",
            "          [ 0.1697,  0.1791, -0.0547,  0.0813,  0.1532],\n",
            "          [ 0.0914,  0.0042,  0.1993,  0.0405, -0.0602],\n",
            "          [-0.1282,  0.0678,  0.0951,  0.0611, -0.1042],\n",
            "          [ 0.1778,  0.0239,  0.0303, -0.1843,  0.0940]]],\n",
            "\n",
            "\n",
            "        [[[-0.0734,  0.0434, -0.1593,  0.1504,  0.0584],\n",
            "          [ 0.1101,  0.0523, -0.0252,  0.0150,  0.0769],\n",
            "          [-0.1885, -0.0701,  0.1223,  0.1174, -0.1443],\n",
            "          [-0.0767,  0.1340,  0.1822,  0.1231,  0.0232],\n",
            "          [-0.1726,  0.1156,  0.0303,  0.0119, -0.0905]]],\n",
            "\n",
            "\n",
            "        [[[-0.1018, -0.1944, -0.1024, -0.0463, -0.0007],\n",
            "          [ 0.0161,  0.1116,  0.0632,  0.1216, -0.0790],\n",
            "          [ 0.1141,  0.1942,  0.0676,  0.1704, -0.1388],\n",
            "          [ 0.0119, -0.0064, -0.1020, -0.0283, -0.0504],\n",
            "          [ 0.0431, -0.1785, -0.1798, -0.0886,  0.0241]]],\n",
            "\n",
            "\n",
            "        [[[ 0.0890, -0.0414,  0.1304,  0.1406,  0.1878],\n",
            "          [ 0.1958,  0.1840, -0.0629, -0.0754, -0.0415],\n",
            "          [ 0.1754, -0.1342, -0.0300, -0.0214,  0.0863],\n",
            "          [ 0.1313,  0.1027, -0.0663, -0.0926,  0.0716],\n",
            "          [-0.1114,  0.0304, -0.0391,  0.1357, -0.1423]]],\n",
            "\n",
            "\n",
            "        [[[-0.1916,  0.1560, -0.0981, -0.0059,  0.1694],\n",
            "          [ 0.1043,  0.0152,  0.1674,  0.1475, -0.1619],\n",
            "          [-0.1051,  0.0655,  0.1332,  0.0500, -0.1772],\n",
            "          [-0.1050, -0.0918,  0.1397,  0.0795,  0.0804],\n",
            "          [ 0.1027, -0.0557,  0.0976, -0.1803, -0.1438]]]], device='cuda:0',\n",
            "       requires_grad=True)), ('bias_orig', Parameter containing:\n",
            "tensor([-0.0361, -0.0131,  0.1658, -0.1877,  0.1818, -0.1425], device='cuda:0',\n",
            "       requires_grad=True))]\n"
          ]
        }
      ],
      "source": [
        "print(list(module.named_parameters()))"
      ]
    },
    {
      "cell_type": "code",
      "execution_count": 358,
      "metadata": {
        "collapsed": false
      },
      "outputs": [
        {
          "name": "stdout",
          "output_type": "stream",
          "text": [
            "[('weight_mask', tensor([[[[0., 0., 1., 1., 0.],\n",
            "          [1., 1., 0., 1., 1.],\n",
            "          [1., 1., 1., 0., 1.],\n",
            "          [1., 1., 1., 1., 1.],\n",
            "          [1., 0., 1., 1., 0.]]],\n",
            "\n",
            "\n",
            "        [[[1., 1., 0., 1., 1.],\n",
            "          [0., 1., 1., 1., 1.],\n",
            "          [0., 0., 1., 1., 1.],\n",
            "          [1., 1., 0., 0., 0.],\n",
            "          [1., 1., 1., 1., 1.]]],\n",
            "\n",
            "\n",
            "        [[[0., 0., 0., 0., 0.],\n",
            "          [0., 0., 0., 0., 0.],\n",
            "          [0., 0., 0., 0., 0.],\n",
            "          [0., 0., 0., 0., 0.],\n",
            "          [0., 0., 0., 0., 0.]]],\n",
            "\n",
            "\n",
            "        [[[0., 0., 0., 0., 0.],\n",
            "          [0., 0., 0., 0., 0.],\n",
            "          [0., 0., 0., 0., 0.],\n",
            "          [0., 0., 0., 0., 0.],\n",
            "          [0., 0., 0., 0., 0.]]],\n",
            "\n",
            "\n",
            "        [[[0., 0., 0., 0., 0.],\n",
            "          [0., 0., 0., 0., 0.],\n",
            "          [0., 0., 0., 0., 0.],\n",
            "          [0., 0., 0., 0., 0.],\n",
            "          [0., 0., 0., 0., 0.]]],\n",
            "\n",
            "\n",
            "        [[[1., 0., 1., 1., 0.],\n",
            "          [0., 1., 0., 1., 1.],\n",
            "          [1., 1., 1., 1., 0.],\n",
            "          [1., 1., 1., 1., 1.],\n",
            "          [0., 1., 1., 1., 1.]]]], device='cuda:0')), ('bias_mask', tensor([0., 0., 1., 1., 1., 0.], device='cuda:0'))]\n"
          ]
        }
      ],
      "source": [
        "print(list(module.named_buffers()))"
      ]
    },
    {
      "cell_type": "code",
      "execution_count": 359,
      "metadata": {
        "collapsed": false
      },
      "outputs": [
        {
          "name": "stdout",
          "output_type": "stream",
          "text": [
            "tensor([[[[-0.0000,  0.0000, -0.0058, -0.1070,  0.0000],\n",
            "          [ 0.1345,  0.1946, -0.0000, -0.0744,  0.0683],\n",
            "          [-0.0306, -0.1795, -0.0415, -0.0000,  0.1991],\n",
            "          [ 0.1919, -0.1782, -0.1056,  0.0061, -0.1167],\n",
            "          [ 0.1642,  0.0000,  0.1736, -0.1871,  0.0000]]],\n",
            "\n",
            "\n",
            "        [[[ 0.1065,  0.1169, -0.0000,  0.1916,  0.1710],\n",
            "          [ 0.0000,  0.1791, -0.0547,  0.0813,  0.1532],\n",
            "          [ 0.0000,  0.0000,  0.1993,  0.0405, -0.0602],\n",
            "          [-0.1282,  0.0678,  0.0000,  0.0000, -0.0000],\n",
            "          [ 0.1778,  0.0239,  0.0303, -0.1843,  0.0940]]],\n",
            "\n",
            "\n",
            "        [[[-0.0000,  0.0000, -0.0000,  0.0000,  0.0000],\n",
            "          [ 0.0000,  0.0000, -0.0000,  0.0000,  0.0000],\n",
            "          [-0.0000, -0.0000,  0.0000,  0.0000, -0.0000],\n",
            "          [-0.0000,  0.0000,  0.0000,  0.0000,  0.0000],\n",
            "          [-0.0000,  0.0000,  0.0000,  0.0000, -0.0000]]],\n",
            "\n",
            "\n",
            "        [[[-0.0000, -0.0000, -0.0000, -0.0000, -0.0000],\n",
            "          [ 0.0000,  0.0000,  0.0000,  0.0000, -0.0000],\n",
            "          [ 0.0000,  0.0000,  0.0000,  0.0000, -0.0000],\n",
            "          [ 0.0000, -0.0000, -0.0000, -0.0000, -0.0000],\n",
            "          [ 0.0000, -0.0000, -0.0000, -0.0000,  0.0000]]],\n",
            "\n",
            "\n",
            "        [[[ 0.0000, -0.0000,  0.0000,  0.0000,  0.0000],\n",
            "          [ 0.0000,  0.0000, -0.0000, -0.0000, -0.0000],\n",
            "          [ 0.0000, -0.0000, -0.0000, -0.0000,  0.0000],\n",
            "          [ 0.0000,  0.0000, -0.0000, -0.0000,  0.0000],\n",
            "          [-0.0000,  0.0000, -0.0000,  0.0000, -0.0000]]],\n",
            "\n",
            "\n",
            "        [[[-0.1916,  0.0000, -0.0981, -0.0059,  0.0000],\n",
            "          [ 0.0000,  0.0152,  0.0000,  0.1475, -0.1619],\n",
            "          [-0.1051,  0.0655,  0.1332,  0.0500, -0.0000],\n",
            "          [-0.1050, -0.0918,  0.1397,  0.0795,  0.0804],\n",
            "          [ 0.0000, -0.0557,  0.0976, -0.1803, -0.1438]]]], device='cuda:0',\n",
            "       grad_fn=<MulBackward0>)\n"
          ]
        }
      ],
      "source": [
        "print(module.weight)"
      ]
    },
    {
      "cell_type": "markdown",
      "metadata": {},
      "source": [
        "After removing the re-parametrization:\n",
        "\n"
      ]
    },
    {
      "cell_type": "code",
      "execution_count": 360,
      "metadata": {
        "collapsed": false
      },
      "outputs": [
        {
          "name": "stdout",
          "output_type": "stream",
          "text": [
            "[('bias_orig', Parameter containing:\n",
            "tensor([-0.0361, -0.0131,  0.1658, -0.1877,  0.1818, -0.1425], device='cuda:0',\n",
            "       requires_grad=True)), ('weight', Parameter containing:\n",
            "tensor([[[[-0.0000,  0.0000, -0.0058, -0.1070,  0.0000],\n",
            "          [ 0.1345,  0.1946, -0.0000, -0.0744,  0.0683],\n",
            "          [-0.0306, -0.1795, -0.0415, -0.0000,  0.1991],\n",
            "          [ 0.1919, -0.1782, -0.1056,  0.0061, -0.1167],\n",
            "          [ 0.1642,  0.0000,  0.1736, -0.1871,  0.0000]]],\n",
            "\n",
            "\n",
            "        [[[ 0.1065,  0.1169, -0.0000,  0.1916,  0.1710],\n",
            "          [ 0.0000,  0.1791, -0.0547,  0.0813,  0.1532],\n",
            "          [ 0.0000,  0.0000,  0.1993,  0.0405, -0.0602],\n",
            "          [-0.1282,  0.0678,  0.0000,  0.0000, -0.0000],\n",
            "          [ 0.1778,  0.0239,  0.0303, -0.1843,  0.0940]]],\n",
            "\n",
            "\n",
            "        [[[-0.0000,  0.0000, -0.0000,  0.0000,  0.0000],\n",
            "          [ 0.0000,  0.0000, -0.0000,  0.0000,  0.0000],\n",
            "          [-0.0000, -0.0000,  0.0000,  0.0000, -0.0000],\n",
            "          [-0.0000,  0.0000,  0.0000,  0.0000,  0.0000],\n",
            "          [-0.0000,  0.0000,  0.0000,  0.0000, -0.0000]]],\n",
            "\n",
            "\n",
            "        [[[-0.0000, -0.0000, -0.0000, -0.0000, -0.0000],\n",
            "          [ 0.0000,  0.0000,  0.0000,  0.0000, -0.0000],\n",
            "          [ 0.0000,  0.0000,  0.0000,  0.0000, -0.0000],\n",
            "          [ 0.0000, -0.0000, -0.0000, -0.0000, -0.0000],\n",
            "          [ 0.0000, -0.0000, -0.0000, -0.0000,  0.0000]]],\n",
            "\n",
            "\n",
            "        [[[ 0.0000, -0.0000,  0.0000,  0.0000,  0.0000],\n",
            "          [ 0.0000,  0.0000, -0.0000, -0.0000, -0.0000],\n",
            "          [ 0.0000, -0.0000, -0.0000, -0.0000,  0.0000],\n",
            "          [ 0.0000,  0.0000, -0.0000, -0.0000,  0.0000],\n",
            "          [-0.0000,  0.0000, -0.0000,  0.0000, -0.0000]]],\n",
            "\n",
            "\n",
            "        [[[-0.1916,  0.0000, -0.0981, -0.0059,  0.0000],\n",
            "          [ 0.0000,  0.0152,  0.0000,  0.1475, -0.1619],\n",
            "          [-0.1051,  0.0655,  0.1332,  0.0500, -0.0000],\n",
            "          [-0.1050, -0.0918,  0.1397,  0.0795,  0.0804],\n",
            "          [ 0.0000, -0.0557,  0.0976, -0.1803, -0.1438]]]], device='cuda:0',\n",
            "       requires_grad=True))]\n",
            "module.weight.shape : torch.Size([6, 1, 5, 5])\n"
          ]
        }
      ],
      "source": [
        "prune.remove(module, 'weight')\n",
        "print(list(module.named_parameters()))\n",
        "print(f\"module.weight.shape : {module.weight.shape}\")"
      ]
    },
    {
      "cell_type": "code",
      "execution_count": 361,
      "metadata": {
        "collapsed": false
      },
      "outputs": [
        {
          "name": "stdout",
          "output_type": "stream",
          "text": [
            "[('bias_mask', tensor([0., 0., 1., 1., 1., 0.], device='cuda:0'))]\n"
          ]
        }
      ],
      "source": [
        "print(list(module.named_buffers()))"
      ]
    },
    {
      "cell_type": "markdown",
      "metadata": {},
      "source": [
        "## Pruning multiple parameters in a model \n",
        "\n",
        "By specifying the desired pruning technique and parameters, we can easily \n",
        "prune multiple tensors in a network, perhaps according to their type, as we \n",
        "will see in this example.\n",
        "\n"
      ]
    },
    {
      "cell_type": "code",
      "execution_count": 362,
      "metadata": {
        "collapsed": false
      },
      "outputs": [
        {
          "name": "stdout",
          "output_type": "stream",
          "text": [
            "dict_keys(['conv1.weight_mask', 'conv2.weight_mask', 'fc1.weight_mask', 'fc2.weight_mask', 'fc3.weight_mask'])\n"
          ]
        }
      ],
      "source": [
        "new_model = LeNet()\n",
        "for name, module in new_model.named_modules():\n",
        "    # prune 20% of connections in all 2D-conv layers \n",
        "    if isinstance(module, torch.nn.Conv2d):\n",
        "        prune.l1_unstructured(module, name='weight', amount=0.2)\n",
        "    # prune 40% of connections in all linear layers \n",
        "    elif isinstance(module, torch.nn.Linear):\n",
        "        prune.l1_unstructured(module, name='weight', amount=0.4)\n",
        "\n",
        "print(dict(new_model.named_buffers()).keys())  # to verify that all masks exist"
      ]
    },
    {
      "cell_type": "markdown",
      "metadata": {},
      "source": [
        "## Global pruning\n",
        "\n",
        "So far, we only looked at what is usually referred to as \"local\" pruning,\n",
        "i.e. the practice of pruning tensors in a model one by one, by \n",
        "comparing the statistics (weight magnitude, activation, gradient, etc.) of \n",
        "each entry exclusively to the other entries in that tensor. However, a \n",
        "common and perhaps more powerful technique is to prune the model all at \n",
        "once, by removing (for example) the lowest 20% of connections across the \n",
        "whole model, instead of removing the lowest 20% of connections in each \n",
        "layer. This is likely to result in different pruning percentages per layer.\n",
        "Let's see how to do that using ``global_unstructured`` from \n",
        "``torch.nn.utils.prune``.\n",
        "\n"
      ]
    },
    {
      "cell_type": "code",
      "execution_count": 363,
      "metadata": {
        "collapsed": false
      },
      "outputs": [],
      "source": [
        "model = LeNet()\n",
        "\n",
        "parameters_to_prune = (\n",
        "    (model.conv1, 'weight'),\n",
        "    (model.conv2, 'weight'),\n",
        "    (model.fc1, 'weight'),\n",
        "    (model.fc2, 'weight'),\n",
        "    (model.fc3, 'weight'),\n",
        ")\n",
        "\n",
        "prune.global_unstructured(\n",
        "    parameters_to_prune,\n",
        "    pruning_method=prune.L1Unstructured,\n",
        "    amount=0.2,\n",
        ")"
      ]
    },
    {
      "cell_type": "markdown",
      "metadata": {},
      "source": [
        "Now we can check the sparsity induced in every pruned parameter, which will \n",
        "not be equal to 20% in each layer. However, the global sparsity will be \n",
        "(approximately) 20%.\n",
        "\n"
      ]
    },
    {
      "cell_type": "code",
      "execution_count": 364,
      "metadata": {
        "collapsed": false
      },
      "outputs": [
        {
          "name": "stdout",
          "output_type": "stream",
          "text": [
            "Sparsity in conv1.weight: 4.00%\n",
            "Sparsity in conv2.weight: 13.75%\n",
            "Sparsity in fc1.weight: 22.28%\n",
            "Sparsity in fc2.weight: 11.65%\n",
            "Sparsity in fc3.weight: 10.48%\n",
            "Global sparsity: 20.00%\n"
          ]
        }
      ],
      "source": [
        "print(\n",
        "    \"Sparsity in conv1.weight: {:.2f}%\".format(\n",
        "        100. * float(torch.sum(model.conv1.weight == 0))\n",
        "        / float(model.conv1.weight.nelement())\n",
        "    )\n",
        ")\n",
        "print(\n",
        "    \"Sparsity in conv2.weight: {:.2f}%\".format(\n",
        "        100. * float(torch.sum(model.conv2.weight == 0))\n",
        "        / float(model.conv2.weight.nelement())\n",
        "    )\n",
        ")\n",
        "print(\n",
        "    \"Sparsity in fc1.weight: {:.2f}%\".format(\n",
        "        100. * float(torch.sum(model.fc1.weight == 0))\n",
        "        / float(model.fc1.weight.nelement())\n",
        "    )\n",
        ")\n",
        "print(\n",
        "    \"Sparsity in fc2.weight: {:.2f}%\".format(\n",
        "        100. * float(torch.sum(model.fc2.weight == 0))\n",
        "        / float(model.fc2.weight.nelement())\n",
        "    )\n",
        ")\n",
        "print(\n",
        "    \"Sparsity in fc3.weight: {:.2f}%\".format(\n",
        "        100. * float(torch.sum(model.fc3.weight == 0))\n",
        "        / float(model.fc3.weight.nelement())\n",
        "    )\n",
        ")\n",
        "print(\n",
        "    \"Global sparsity: {:.2f}%\".format(\n",
        "        100. * float(\n",
        "            torch.sum(model.conv1.weight == 0)\n",
        "            + torch.sum(model.conv2.weight == 0)\n",
        "            + torch.sum(model.fc1.weight == 0)\n",
        "            + torch.sum(model.fc2.weight == 0)\n",
        "            + torch.sum(model.fc3.weight == 0)\n",
        "        )\n",
        "        / float(\n",
        "            model.conv1.weight.nelement()\n",
        "            + model.conv2.weight.nelement()\n",
        "            + model.fc1.weight.nelement()\n",
        "            + model.fc2.weight.nelement()\n",
        "            + model.fc3.weight.nelement()\n",
        "        )\n",
        "    )\n",
        ")"
      ]
    },
    {
      "cell_type": "markdown",
      "metadata": {},
      "source": [
        "## Extending ``torch.nn.utils.prune`` with custom pruning functions\n",
        "To implement your own pruning function, you can extend the\n",
        "``nn.utils.prune`` module by subclassing the ``BasePruningMethod``\n",
        "base class, the same way all other pruning methods do. The base class\n",
        "implements the following methods for you: ``__call__``, ``apply_mask``,\n",
        "``apply``, ``prune``, and ``remove``. Beyond some special cases, you shouldn't\n",
        "have to reimplement these methods for your new pruning technique.\n",
        "You will, however, have to implement ``__init__`` (the constructor),\n",
        "and ``compute_mask`` (the instructions on how to compute the mask\n",
        "for the given tensor according to the logic of your pruning\n",
        "technique). In addition, you will have to specify which type of\n",
        "pruning this technique implements (supported options are ``global``,\n",
        "``structured``, and ``unstructured``). This is needed to determine\n",
        "how to combine masks in the case in which pruning is applied\n",
        "iteratively. In other words, when pruning a prepruned parameter,\n",
        "the current pruning technique is expected to act on the unpruned\n",
        "portion of the parameter. Specifying the ``PRUNING_TYPE`` will\n",
        "enable the ``PruningContainer`` (which handles the iterative\n",
        "application of pruning masks) to correctly identify the slice of the\n",
        "parameter to prune.\n",
        "\n",
        "Let's assume, for example, that you want to implement a pruning\n",
        "technique that prunes every other entry in a tensor (or -- if the\n",
        "tensor has previously been pruned -- in the remaining unpruned\n",
        "portion of the tensor). This will be of ``PRUNING_TYPE='unstructured'``\n",
        "because it acts on individual connections in a layer and not on entire\n",
        "units/channels (``'structured'``), or across different parameters\n",
        "(``'global'``).\n",
        "\n"
      ]
    },
    {
      "cell_type": "code",
      "execution_count": 365,
      "metadata": {
        "collapsed": false
      },
      "outputs": [],
      "source": [
        "class FooBarPruningMethod(prune.BasePruningMethod):\n",
        "    \"\"\"Prune every other entry in a tensor\n",
        "    \"\"\"\n",
        "    PRUNING_TYPE = 'unstructured'\n",
        "\n",
        "    def compute_mask(self, t, default_mask):\n",
        "        mask = default_mask.clone()\n",
        "        mask.view(-1)[::2] = 0 \n",
        "        return mask"
      ]
    },
    {
      "cell_type": "markdown",
      "metadata": {},
      "source": [
        "Now, to apply this to a parameter in an ``nn.Module``, you should\n",
        "also provide a simple function that instantiates the method and\n",
        "applies it.\n",
        "\n"
      ]
    },
    {
      "cell_type": "code",
      "execution_count": 366,
      "metadata": {
        "collapsed": false
      },
      "outputs": [],
      "source": [
        "def foobar_unstructured(module, name):\n",
        "    \"\"\"Prunes tensor corresponding to parameter called `name` in `module`\n",
        "    by removing every other entry in the tensors.\n",
        "    Modifies module in place (and also return the modified module) \n",
        "    by:\n",
        "    1) adding a named buffer called `name+'_mask'` corresponding to the \n",
        "    binary mask applied to the parameter `name` by the pruning method.\n",
        "    The parameter `name` is replaced by its pruned version, while the \n",
        "    original (unpruned) parameter is stored in a new parameter named \n",
        "    `name+'_orig'`.\n",
        "\n",
        "    Args:\n",
        "        module (nn.Module): module containing the tensor to prune\n",
        "        name (string): parameter name within `module` on which pruning\n",
        "                will act.\n",
        "\n",
        "    Returns:\n",
        "        module (nn.Module): modified (i.e. pruned) version of the input\n",
        "            module\n",
        "    \n",
        "    Examples:\n",
        "        >>> m = nn.Linear(3, 4)\n",
        "        >>> foobar_unstructured(m, name='bias')\n",
        "    \"\"\"\n",
        "    FooBarPruningMethod.apply(module, name)\n",
        "    return module"
      ]
    },
    {
      "cell_type": "markdown",
      "metadata": {},
      "source": [
        "Let's try it out!\n",
        "\n"
      ]
    },
    {
      "cell_type": "code",
      "execution_count": 367,
      "metadata": {
        "collapsed": false
      },
      "outputs": [
        {
          "name": "stdout",
          "output_type": "stream",
          "text": [
            "tensor([0., 1., 0., 1., 0., 1., 0., 1., 0., 1.])\n"
          ]
        }
      ],
      "source": [
        "model = LeNet()\n",
        "foobar_unstructured(model.fc3, name='bias')\n",
        "\n",
        "print(model.fc3.bias_mask)"
      ]
    },
    {
      "cell_type": "markdown",
      "metadata": {},
      "source": [
        "# Development"
      ]
    },
    {
      "cell_type": "code",
      "execution_count": 368,
      "metadata": {},
      "outputs": [
        {
          "name": "stdout",
          "output_type": "stream",
          "text": [
            "[('weight', Parameter containing:\n",
            "tensor([[[[-0.0730,  0.0839,  0.0272,  0.0412, -0.1436],\n",
            "          [-0.0790,  0.0690,  0.0659,  0.1148, -0.0193],\n",
            "          [-0.1704, -0.0798,  0.1467, -0.1066, -0.0648],\n",
            "          [ 0.1062, -0.0280,  0.0985,  0.1691,  0.1505],\n",
            "          [ 0.0701, -0.0221, -0.0142, -0.0499, -0.1771]]],\n",
            "\n",
            "\n",
            "        [[[-0.0163, -0.0649, -0.0339,  0.1861, -0.0259],\n",
            "          [ 0.1446,  0.0581,  0.1778, -0.1086,  0.1201],\n",
            "          [-0.1798,  0.1197,  0.1202, -0.0562,  0.1863],\n",
            "          [ 0.1008, -0.1297,  0.1875, -0.0453, -0.1068],\n",
            "          [-0.0512,  0.0138,  0.0586,  0.0342, -0.0598]]],\n",
            "\n",
            "\n",
            "        [[[-0.0009, -0.0832, -0.0906, -0.1467,  0.0285],\n",
            "          [ 0.0903,  0.0159,  0.1971,  0.0476, -0.1273],\n",
            "          [ 0.0790, -0.0838,  0.1986,  0.1369, -0.1604],\n",
            "          [ 0.0050, -0.1765,  0.1396,  0.0227,  0.1405],\n",
            "          [-0.0700,  0.0357, -0.0847,  0.0637,  0.0958]]],\n",
            "\n",
            "\n",
            "        [[[-0.0798,  0.1404, -0.0265, -0.0148, -0.1265],\n",
            "          [ 0.1674,  0.1886,  0.1703, -0.1362, -0.0737],\n",
            "          [ 0.0697, -0.0201, -0.0731,  0.0143, -0.1966],\n",
            "          [ 0.1623,  0.0873, -0.0125, -0.0624, -0.1083],\n",
            "          [-0.1413,  0.0760, -0.1476, -0.0444, -0.1680]]],\n",
            "\n",
            "\n",
            "        [[[-0.1880, -0.1163,  0.1180,  0.1973,  0.1442],\n",
            "          [ 0.1160, -0.1837,  0.0885, -0.1164,  0.0810],\n",
            "          [-0.0463, -0.0389, -0.0735,  0.1394, -0.1586],\n",
            "          [ 0.1627, -0.1634,  0.0786, -0.0418, -0.1508],\n",
            "          [-0.0069, -0.1335, -0.1495, -0.1028,  0.1750]]],\n",
            "\n",
            "\n",
            "        [[[ 0.0401,  0.0827,  0.0888, -0.1593,  0.1118],\n",
            "          [ 0.0522,  0.1869, -0.0512,  0.0285, -0.0390],\n",
            "          [ 0.0996, -0.1714,  0.1422,  0.0508,  0.1338],\n",
            "          [ 0.0542, -0.0197,  0.1288, -0.0056, -0.0938],\n",
            "          [-0.1587,  0.1296, -0.1476, -0.0690,  0.1393]]]], requires_grad=True)), ('bias', Parameter containing:\n",
            "tensor([-0.0209, -0.1436,  0.1871,  0.0527, -0.1024, -0.0918],\n",
            "       requires_grad=True))]\n"
          ]
        }
      ],
      "source": [
        "module = model.conv1\n",
        "print(list(module.named_parameters()))"
      ]
    },
    {
      "cell_type": "code",
      "execution_count": null,
      "metadata": {},
      "outputs": [],
      "source": []
    }
  ],
  "metadata": {
    "kernelspec": {
      "display_name": "Python 3",
      "language": "python",
      "name": "python3"
    },
    "language_info": {
      "codemirror_mode": {
        "name": "ipython",
        "version": 3
      },
      "file_extension": ".py",
      "mimetype": "text/x-python",
      "name": "python",
      "nbconvert_exporter": "python",
      "pygments_lexer": "ipython3",
      "version": "3.10.13"
    }
  },
  "nbformat": 4,
  "nbformat_minor": 0
}
