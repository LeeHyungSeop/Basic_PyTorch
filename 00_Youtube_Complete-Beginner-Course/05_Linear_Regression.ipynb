{
 "cells": [
  {
   "cell_type": "code",
   "execution_count": 1,
   "metadata": {},
   "outputs": [
    {
     "name": "stdout",
     "output_type": "stream",
     "text": [
      "epoch : 10, loss = 4430.94921875:.4f\n",
      "epoch : 20, loss = 3304.328369140625:.4f\n",
      "epoch : 30, loss = 2489.364013671875:.4f\n",
      "epoch : 40, loss = 1899.2030029296875:.4f\n",
      "epoch : 50, loss = 1471.4041748046875:.4f\n",
      "epoch : 60, loss = 1161.011474609375:.4f\n",
      "epoch : 70, loss = 935.6093139648438:.4f\n",
      "epoch : 80, loss = 771.7968139648438:.4f\n",
      "epoch : 90, loss = 652.6581420898438:.4f\n",
      "epoch : 100, loss = 565.9520263671875:.4f\n"
     ]
    },
    {
     "data": {
      "image/png": "[encoded data removed]",
      "text/plain": [
       "<Figure size 432x288 with 1 Axes>"
      ]
     },
     "metadata": {
      "needs_background": "light"
     },
     "output_type": "display_data"
    }
   ],
   "source": [
    "import torch\n",
    "import torch.nn as nn\n",
    "import numpy as np\n",
    "from sklearn import datasets\n",
    "import matplotlib.pyplot as plt\n",
    "\n",
    "# 0. prepare data\n",
    "X_numpy, y_numpy = datasets.make_regression(n_samples=100, n_features=1, noise=20, random_state=1)\n",
    "\n",
    "X = torch.from_numpy(X_numpy.astype(np.float32))\n",
    "y = torch.from_numpy(y_numpy.astype(np.float32))\n",
    "y = y.view(y.shape[0], 1)  #?\n",
    "\n",
    "n_samples, n_features = X.shape\n",
    "\n",
    "# 1. model\n",
    "input_size = n_features\n",
    "output_size = 1\n",
    "model = nn.Linear(input_size, output_size)\n",
    "\n",
    "# 2. loss and optimizer\n",
    "learning_rate = 0.01\n",
    "criterion = nn.MSELoss()\n",
    "optimizer = torch.optim.SGD(model.parameters(), lr=learning_rate)\n",
    "\n",
    "# 3. training loop\n",
    "num_epochs = 100\n",
    "for epoch in range(num_epochs) :\n",
    "    # forward pass\n",
    "    y_pred = model(X)\n",
    "    \n",
    "    # loss \n",
    "    loss = criterion(y_pred, y)\n",
    "    \n",
    "    # backward pass\n",
    "    loss.backward()\n",
    "    \n",
    "    # update\n",
    "    optimizer.step()\n",
    "    optimizer.zero_grad() # gradient가 accumulation 되는 것을 방지\n",
    "    \n",
    "    if (epoch + 1) % 10 == 0 :\n",
    "        print(f\"epoch : {epoch + 1}, loss = {loss.item()}:.4f\")\n",
    "\n",
    "# plot\n",
    "predicted = model(X).detach().numpy() # generate new tensor to prevent operatation\n",
    "plt.plot(X_numpy, y_numpy, 'ro') # train data set plot\n",
    "plt.plot(X_numpy, predicted, 'b') # prediction plot\n",
    "plt.show()"
   ]
  },
  {
   "cell_type": "code",
   "execution_count": null,
   "metadata": {},
   "outputs": [],
   "source": []
  }
 ],
 "metadata": {
  "kernelspec": {
   "display_name": "base",
   "language": "python",
   "name": "python3"
  },
  "language_info": {
   "codemirror_mode": {
    "name": "ipython",
    "version": 3
   },
   "file_extension": ".py",
   "mimetype": "text/x-python",
   "name": "python",
   "nbconvert_exporter": "python",
   "pygments_lexer": "ipython3",
   "version": "3.9.7"
  }
 },
 "nbformat": 4,
 "nbformat_minor": 2
}
