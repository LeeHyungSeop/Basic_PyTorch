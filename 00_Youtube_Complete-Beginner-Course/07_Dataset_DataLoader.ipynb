{
 "cells": [
  {
   "cell_type": "markdown",
   "metadata": {},
   "source": [
    "# Terminology\n",
    "\n",
    "* `epoch` : 1 forward and backward pass of ALL training samples\n",
    "* `batch_size` : the number of training samples in one forward & backward pass\n",
    "* `# of iterations` : 100 samples, batch_size=20 --> 100 / 20 = 5 iterations for 1 epoch "
   ]
  },
  {
   "cell_type": "code",
   "execution_count": 1,
   "metadata": {},
   "outputs": [],
   "source": [
    "import torch\n",
    "import torchvision\n",
    "from torch.utils.data import Dataset, DataLoader\n",
    "import numpy as np\n",
    "import math"
   ]
  },
  {
   "cell_type": "code",
   "execution_count": 2,
   "metadata": {},
   "outputs": [],
   "source": [
    "# Manually\n",
    "class WineDataset(Dataset) : \n",
    "    def __init__(self) : \n",
    "        # data loading\n",
    "        xy = np.loadtxt(\"./datasets/wine.csv\", delimiter=\",\", dtype=np.float32, skiprows=1) # load data, skip 1th row\n",
    "        self.x = torch.from_numpy(xy[:, 1:])\n",
    "        self.y = torch.from_numpy(xy[:, [0]]) # (n_sample, 1)\n",
    "        self.n_samples = xy.shape[0]\n",
    "        \n",
    "        \n",
    "    def __getitem__(self, index) :\n",
    "        # dataset[0]\n",
    "        return self.x[index], self.y[index] # return tuple (x[index], y[index])\n",
    "        \n",
    "    def __len__(self) :\n",
    "        # len(dataset)\n",
    "        return self.n_samples"
   ]
  },
  {
   "cell_type": "code",
   "execution_count": 5,
   "metadata": {},
   "outputs": [
    {
     "name": "stdout",
     "output_type": "stream",
     "text": [
      "tensor([1.4230e+01, 1.7100e+00, 2.4300e+00, 1.5600e+01, 1.2700e+02, 2.8000e+00,\n",
      "        3.0600e+00, 2.8000e-01, 2.2900e+00, 5.6400e+00, 1.0400e+00, 3.9200e+00,\n",
      "        1.0650e+03]) tensor([1.])\n"
     ]
    }
   ],
   "source": [
    "dataset = WineDataset()\n",
    "first_data = dataset[0]\n",
    "features, labels = first_data\n",
    "print(features, labels)\n",
    "\n",
    "# [1.4230e+01, 1.7100e+00, 2.4300e+00, 1.5600e+01, 1.2700e+02, 2.8000e+00,\n",
    "#  3.0600e+00, 2.8000e-01, 2.2900e+00, 5.6400e+00, 1.0400e+00, 3.9200e+00,\n",
    "#  1.0650e+03] \n",
    "# ---> one row\n",
    "\n",
    "# tensor([1.]) \n",
    "# ---> label"
   ]
  },
  {
   "cell_type": "code",
   "execution_count": 6,
   "metadata": {},
   "outputs": [
    {
     "name": "stdout",
     "output_type": "stream",
     "text": [
      "tensor([[1.3480e+01, 1.6700e+00, 2.6400e+00, 2.2500e+01, 8.9000e+01, 2.6000e+00,\n",
      "         1.1000e+00, 5.2000e-01, 2.2900e+00, 1.1750e+01, 5.7000e-01, 1.7800e+00,\n",
      "         6.2000e+02],\n",
      "        [1.3070e+01, 1.5000e+00, 2.1000e+00, 1.5500e+01, 9.8000e+01, 2.4000e+00,\n",
      "         2.6400e+00, 2.8000e-01, 1.3700e+00, 3.7000e+00, 1.1800e+00, 2.6900e+00,\n",
      "         1.0200e+03],\n",
      "        [1.3580e+01, 1.6600e+00, 2.3600e+00, 1.9100e+01, 1.0600e+02, 2.8600e+00,\n",
      "         3.1900e+00, 2.2000e-01, 1.9500e+00, 6.9000e+00, 1.0900e+00, 2.8800e+00,\n",
      "         1.5150e+03],\n",
      "        [1.4220e+01, 1.7000e+00, 2.3000e+00, 1.6300e+01, 1.1800e+02, 3.2000e+00,\n",
      "         3.0000e+00, 2.6000e-01, 2.0300e+00, 6.3800e+00, 9.4000e-01, 3.3100e+00,\n",
      "         9.7000e+02]]) tensor([[3.],\n",
      "        [1.],\n",
      "        [1.],\n",
      "        [1.]])\n"
     ]
    }
   ],
   "source": [
    "dataset = WineDataset()\n",
    "dataloader = DataLoader(dataset=dataset, batch_size=4, shuffle=True, num_workers=2) # num_workers -> loading faster\n",
    "\n",
    "data_iter = iter(dataloader)\n",
    "data = data_iter.next()\n",
    "features, labels = data\n",
    "print(features, labels) # because of batch size = 4"
   ]
  },
  {
   "cell_type": "code",
   "execution_count": 9,
   "metadata": {},
   "outputs": [
    {
     "name": "stdout",
     "output_type": "stream",
     "text": [
      "178 44.5\n",
      "epoch 1 / 2, step 5 / 44.5, inputs torch.Size([4, 13])\n",
      "epoch 1 / 2, step 10 / 44.5, inputs torch.Size([4, 13])\n",
      "epoch 1 / 2, step 15 / 44.5, inputs torch.Size([4, 13])\n",
      "epoch 1 / 2, step 20 / 44.5, inputs torch.Size([4, 13])\n",
      "epoch 1 / 2, step 25 / 44.5, inputs torch.Size([4, 13])\n",
      "epoch 1 / 2, step 30 / 44.5, inputs torch.Size([4, 13])\n",
      "epoch 1 / 2, step 35 / 44.5, inputs torch.Size([4, 13])\n",
      "epoch 1 / 2, step 40 / 44.5, inputs torch.Size([4, 13])\n",
      "epoch 1 / 2, step 45 / 44.5, inputs torch.Size([2, 13])\n",
      "epoch 2 / 2, step 5 / 44.5, inputs torch.Size([4, 13])\n",
      "epoch 2 / 2, step 10 / 44.5, inputs torch.Size([4, 13])\n",
      "epoch 2 / 2, step 15 / 44.5, inputs torch.Size([4, 13])\n",
      "epoch 2 / 2, step 20 / 44.5, inputs torch.Size([4, 13])\n",
      "epoch 2 / 2, step 25 / 44.5, inputs torch.Size([4, 13])\n",
      "epoch 2 / 2, step 30 / 44.5, inputs torch.Size([4, 13])\n",
      "epoch 2 / 2, step 35 / 44.5, inputs torch.Size([4, 13])\n",
      "epoch 2 / 2, step 40 / 44.5, inputs torch.Size([4, 13])\n",
      "epoch 2 / 2, step 45 / 44.5, inputs torch.Size([2, 13])\n"
     ]
    }
   ],
   "source": [
    "# training loop\n",
    "num_epochs = 2\n",
    "total_samples = len(dataset)\n",
    "n_iterations = total_samples / 4 # total_sample / batch size\n",
    "print(total_samples, n_iterations)\n",
    "\n",
    "for epoch in range(num_epochs) :\n",
    "    for i, (inputs, labels) in enumerate(dataloader) :\n",
    "        # forward \n",
    "        if (i + 1) % 5 == 0 :\n",
    "            print(f\"epoch {epoch + 1} / {num_epochs}, step {i + 1} / {n_iterations}, inputs {inputs.shape}\")\n",
    "        # backward, update\n",
    "        \n",
    "        \n",
    "torchvision.datasets.MNIST()\n",
    "# fashion-mnist, cifar, coco, ...        "
   ]
  },
  {
   "cell_type": "code",
   "execution_count": null,
   "metadata": {},
   "outputs": [],
   "source": []
  }
 ],
 "metadata": {
  "kernelspec": {
   "display_name": "base",
   "language": "python",
   "name": "python3"
  },
  "language_info": {
   "codemirror_mode": {
    "name": "ipython",
    "version": 3
   },
   "file_extension": ".py",
   "mimetype": "text/x-python",
   "name": "python",
   "nbconvert_exporter": "python",
   "pygments_lexer": "ipython3",
   "version": "3.9.7"
  }
 },
 "nbformat": 4,
 "nbformat_minor": 2
}
