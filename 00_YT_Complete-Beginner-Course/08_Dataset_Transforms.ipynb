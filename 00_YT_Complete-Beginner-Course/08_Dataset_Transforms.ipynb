{
 "cells": [
  {
   "cell_type": "code",
   "execution_count": 6,
   "metadata": {},
   "outputs": [],
   "source": [
    "import torch\n",
    "import torchvision\n",
    "from torch.utils.data import Dataset, DataLoader\n",
    "import numpy as np\n",
    "import math"
   ]
  },
  {
   "cell_type": "markdown",
   "metadata": {},
   "source": [
    "# Create the custom dataset"
   ]
  },
  {
   "cell_type": "code",
   "execution_count": 11,
   "metadata": {},
   "outputs": [],
   "source": [
    "# Manually\n",
    "class WineDataset(Dataset) : \n",
    "    def __init__(self, transform=None) : \n",
    "        # data loading\n",
    "        xy = np.loadtxt(\"./datasets/wine.csv\", delimiter=\",\", dtype=np.float32, skiprows=1) # load data, skip 1th row\n",
    "        self.n_samples = xy.shape[0]\n",
    "        \n",
    "        # Note that we do not convert to tensor here\n",
    "        self.x = xy[:, 1:]\n",
    "        self.y = xy[:, [0]] # (n_sample, 1)\n",
    "        \n",
    "        self.transform = transform\n",
    "        \n",
    "        \n",
    "    def __getitem__(self, index) :\n",
    "        # dataset[0]\n",
    "        sample = self.x[index], self.y[index] # return tuple (x[index], y[index])\n",
    "        if self.transform :\n",
    "            sample = self.transform(sample)\n",
    "            \n",
    "        return sample\n",
    "        \n",
    "    def __len__(self) :\n",
    "        # len(dataset)\n",
    "        return self.n_samples\n",
    "    \n",
    "class ToTensor :\n",
    "    def __call__(self, sample) :\n",
    "        inputs, targets = sample\n",
    "        return torch.from_numpy(inputs), torch.from_numpy(targets)"
   ]
  },
  {
   "cell_type": "markdown",
   "metadata": {},
   "source": [
    "## transform=ToTensor() --> type = torch.Tensor"
   ]
  },
  {
   "cell_type": "code",
   "execution_count": 12,
   "metadata": {},
   "outputs": [
    {
     "name": "stdout",
     "output_type": "stream",
     "text": [
      "<class 'torch.Tensor'> <class 'torch.Tensor'>\n"
     ]
    }
   ],
   "source": [
    "dataset = WineDataset(transform=ToTensor())\n",
    "first_data = dataset[0]\n",
    "features, labels = first_data\n",
    "print(type(features), type(labels)) # <class 'torch.Tensor'> <class 'torch.Tensor'>"
   ]
  },
  {
   "cell_type": "markdown",
   "metadata": {},
   "source": [
    "## transform=ToTensor() --> type = numpy.ndarray"
   ]
  },
  {
   "cell_type": "code",
   "execution_count": 13,
   "metadata": {},
   "outputs": [
    {
     "name": "stdout",
     "output_type": "stream",
     "text": [
      "<class 'numpy.ndarray'> <class 'numpy.ndarray'>\n"
     ]
    }
   ],
   "source": [
    "dataset = WineDataset(transform=None)\n",
    "first_data = dataset[0]\n",
    "features, labels = first_data\n",
    "print(type(features), type(labels)) # <class 'numpy.ndarray'> <class 'numpy.ndarray'>"
   ]
  },
  {
   "cell_type": "markdown",
   "metadata": {},
   "source": [
    "# Create a multiplication transform"
   ]
  },
  {
   "cell_type": "code",
   "execution_count": 16,
   "metadata": {},
   "outputs": [],
   "source": [
    "# Manually\n",
    "class WineDataset(Dataset) : \n",
    "    def __init__(self, transform=None) : \n",
    "        # data loading\n",
    "        xy = np.loadtxt(\"./datasets/wine.csv\", delimiter=\",\", dtype=np.float32, skiprows=1) # load data, skip 1th row\n",
    "        self.n_samples = xy.shape[0]\n",
    "        \n",
    "        # Note that we do not convert to tensor here\n",
    "        self.x = xy[:, 1:]\n",
    "        self.y = xy[:, [0]] # (n_sample, 1)\n",
    "        \n",
    "        self.transform = transform\n",
    "        \n",
    "        \n",
    "    def __getitem__(self, index) :\n",
    "        # dataset[0]\n",
    "        sample = self.x[index], self.y[index] # return tuple (x[index], y[index])\n",
    "        if self.transform :\n",
    "            sample = self.transform(sample)\n",
    "            \n",
    "        return sample\n",
    "        \n",
    "    def __len__(self) :\n",
    "        # len(dataset)\n",
    "        return self.n_samples\n",
    "    \n",
    "class ToTensor :\n",
    "    def __call__(self, sample) :\n",
    "        inputs, targets = sample\n",
    "        return torch.from_numpy(inputs), torch.from_numpy(targets)\n",
    "    \n",
    "class MulTransform : \n",
    "    def __init__(self, factor) :\n",
    "        self.factor = factor\n",
    "        \n",
    "    def __call__(self, sample) :\n",
    "        inputs, target = sample\n",
    "        inputs *= self.factor\n",
    "        return inputs, target"
   ]
  },
  {
   "cell_type": "code",
   "execution_count": 22,
   "metadata": {},
   "outputs": [
    {
     "name": "stdout",
     "output_type": "stream",
     "text": [
      "[1.423e+01 1.710e+00 2.430e+00 1.560e+01 1.270e+02 2.800e+00 3.060e+00\n",
      " 2.800e-01 2.290e+00 5.640e+00 1.040e+00 3.920e+00 1.065e+03]\n",
      "<class 'numpy.ndarray'> <class 'numpy.ndarray'>\n",
      "tensor([2.8460e+01, 3.4200e+00, 4.8600e+00, 3.1200e+01, 2.5400e+02, 5.6000e+00,\n",
      "        6.1200e+00, 5.6000e-01, 4.5800e+00, 1.1280e+01, 2.0800e+00, 7.8400e+00,\n",
      "        2.1300e+03])\n",
      "<class 'torch.Tensor'> <class 'torch.Tensor'>\n",
      "tensor([5.6920e+01, 6.8400e+00, 9.7200e+00, 6.2400e+01, 5.0800e+02, 1.1200e+01,\n",
      "        1.2240e+01, 1.1200e+00, 9.1600e+00, 2.2560e+01, 4.1600e+00, 1.5680e+01,\n",
      "        4.2600e+03])\n",
      "<class 'torch.Tensor'> <class 'torch.Tensor'>\n"
     ]
    }
   ],
   "source": [
    "dataset = WineDataset(transform=None)\n",
    "first_data = dataset[0]\n",
    "features, labels = first_data\n",
    "print(features)\n",
    "print(type(features), type(labels)) # <class 'numpy.ndarray'> <class 'numpy.ndarray'>\n",
    "\n",
    "composed = torchvision.transforms.Compose([ToTensor(), MulTransform(2)]) # 2 is a factor\n",
    "dataset = WineDataset(transform=composed)\n",
    "first_data = dataset[0]\n",
    "features, labels = first_data\n",
    "print(features) # each value is multiplied by 2\n",
    "print(type(features), type(labels)) # <class 'torch.Tensor'> <class 'torch.Tensor'>\n",
    "\n",
    "composed = torchvision.transforms.Compose([ToTensor(), MulTransform(4)]) # 4 is a factor\n",
    "dataset = WineDataset(transform=composed)\n",
    "first_data = dataset[0]\n",
    "features, labels = first_data\n",
    "print(features) # each value is multiplied by 4\n",
    "print(type(features), type(labels)) # <class 'torch.Tensor'> <class 'torch.Tensor'>"
   ]
  },
  {
   "cell_type": "code",
   "execution_count": null,
   "metadata": {},
   "outputs": [],
   "source": []
  }
 ],
 "metadata": {
  "kernelspec": {
   "display_name": "base",
   "language": "python",
   "name": "python3"
  },
  "language_info": {
   "codemirror_mode": {
    "name": "ipython",
    "version": 3
   },
   "file_extension": ".py",
   "mimetype": "text/x-python",
   "name": "python",
   "nbconvert_exporter": "python",
   "pygments_lexer": "ipython3",
   "version": "3.9.7"
  }
 },
 "nbformat": 4,
 "nbformat_minor": 2
}
