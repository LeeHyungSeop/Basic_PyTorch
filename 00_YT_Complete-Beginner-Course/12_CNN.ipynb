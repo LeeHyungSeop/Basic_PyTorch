{
 "cells": [
  {
   "cell_type": "code",
   "execution_count": 1,
   "metadata": {},
   "outputs": [],
   "source": [
    "import torch\n",
    "import torch.nn as nn\n",
    "import torch.nn.functional as F\n",
    "import torchvision\n",
    "import torchvision.transforms as transforms\n",
    "import matplotlib.pyplot as plt\n",
    "import numpy as np"
   ]
  },
  {
   "cell_type": "markdown",
   "metadata": {},
   "source": [
    "# Device configuration"
   ]
  },
  {
   "cell_type": "code",
   "execution_count": 2,
   "metadata": {},
   "outputs": [
    {
     "name": "stdout",
     "output_type": "stream",
     "text": [
      "device : cuda\n"
     ]
    }
   ],
   "source": [
    "device = torch.device('cuda' if torch.cuda.is_available() else 'cpu')\n",
    "print(f\"device : {device}\")"
   ]
  },
  {
   "cell_type": "markdown",
   "metadata": {},
   "source": [
    "# Hyper parameters"
   ]
  },
  {
   "cell_type": "code",
   "execution_count": 3,
   "metadata": {},
   "outputs": [],
   "source": [
    "num_epochs = 5\n",
    "batch_size = 4\n",
    "learning_rate = 0.001"
   ]
  },
  {
   "cell_type": "markdown",
   "metadata": {},
   "source": [
    "# Dataset"
   ]
  },
  {
   "cell_type": "code",
   "execution_count": 4,
   "metadata": {},
   "outputs": [
    {
     "name": "stdout",
     "output_type": "stream",
     "text": [
      "Files already downloaded and verified\n",
      "Files already downloaded and verified\n"
     ]
    }
   ],
   "source": [
    "# dataset has PILImage images of range [0, 1]\n",
    "# we transform them to Tensor of normalized range [-1, 1]\n",
    "transform = transforms.Compose(\n",
    "    [\n",
    "        transforms.ToTensor(), \n",
    "        transforms.Normalize((0.5 ,0.5 ,0.5), (0.5 ,0.5 ,0.5)) # mean 0.5, stddev 0.5 for each RGB channels\n",
    "    ]\n",
    ")\n",
    "\n",
    "train_dataset = torchvision.datasets.CIFAR10(root=\"/home/hslee/Desktop/Datasets/\", train=True,\n",
    "                                             download=True, transform=transform)\n",
    "test_dataset = torchvision.datasets.CIFAR10(root=\"/home/hslee/Desktop/Datasets/\", train=False,\n",
    "                                             download=True, transform=transform)\n",
    "train_loader = torch.utils.data.DataLoader(train_dataset, batch_size=batch_size, shuffle=True)\n",
    "test_loader = torch.utils.data.DataLoader(test_dataset, batch_size=batch_size, shuffle=False)\n",
    "\n",
    "classes = ('plan', 'car', 'bird', 'cat', 'deer', 'dog', 'frog', 'horse', 'ship', 'truck')"
   ]
  },
  {
   "cell_type": "code",
   "execution_count": 5,
   "metadata": {},
   "outputs": [
    {
     "name": "stdout",
     "output_type": "stream",
     "text": [
      "train_dataset.shape = (50000, 32, 32, 3)\n",
      "test_dataset.shape = (10000, 32, 32, 3)\n"
     ]
    }
   ],
   "source": [
    "print(f\"train_dataset.shape = {train_dataset.data.shape}\")\n",
    "print(f\"test_dataset.shape = {test_dataset.data.shape}\")"
   ]
  },
  {
   "cell_type": "code",
   "execution_count": 6,
   "metadata": {},
   "outputs": [
    {
     "data": {
      "image/png": "[encoded data removed]",
      "text/plain": [
       "<Figure size 640x480 with 1 Axes>"
      ]
     },
     "metadata": {},
     "output_type": "display_data"
    }
   ],
   "source": [
    "def imshow(img) :\n",
    "    img = img / 2 + 0.5 # unnormalized\n",
    "    npimg = img.numpy()\n",
    "    plt.imshow(np.transpose(npimg, (1, 2, 0)))\n",
    "    plt.show()\n",
    "    \n",
    "dataiter = iter(train_loader)\n",
    "images, labels = next(dataiter)\n",
    "\n",
    "imshow(torchvision.utils.make_grid(images))"
   ]
  },
  {
   "cell_type": "markdown",
   "metadata": {},
   "source": [
    "# Implement conv net"
   ]
  },
  {
   "cell_type": "code",
   "execution_count": 7,
   "metadata": {},
   "outputs": [],
   "source": [
    "class ConvNet(nn.Module) :\n",
    "    def __init__(self) :\n",
    "        super(ConvNet, self).__init__()\n",
    "        self.conv1 = nn.Conv2d(3, 6, 5) # input channel size is 3(RGB), output channel size is 6, kernel size is 5\n",
    "        self.pool = nn.MaxPool2d(2, 2) # kernel size is 2, stride is 2\n",
    "        self.conv2 = nn.Conv2d(6, 16, 5)\n",
    "        self.pool = nn.MaxPool2d(2, 2) # kernel size is 2, stride is 2\n",
    "        self.fc1 = nn.Linear(16 * 5 * 5, 120)\n",
    "        self.fc2 = nn.Linear(120, 84)\n",
    "        self.fc3 = nn.Linear(84, 10) # CIFAR-10 \n",
    "        \n",
    "        # checking dimension\n",
    "        # ((W - F + 2P / S) + 1)   W : input Width, F : Filter Size, P : Padding, S : Stride\n",
    "        # (3 * 32 * 32) --> conv1 : ((32 - 5 + 2*0 / 1) + 1) = 28 --> (6 * 28 * 28)\n",
    "        # (6 * 28 * 28) --> pool  : ((28 - 2 + 2*0 / 2) + 1) = 28 --> (6 * 14 * 14)\n",
    "        # (6 * 14 * 14) --> conv2 : ((14 - 5 + 2*0 / 1) + 1) = 28 --> (16 * 10 * 10)\n",
    "        # (16 * 10 * 10) --> pool : ((10 - 2 + 2*0 / 2) + 1) = 28 --> (16 * 5 * 5)\n",
    "        # fc1 : (16 * 5 * 5) x (120)\n",
    "        # fc2 : (120) x (84)\n",
    "        # fc3 : (84) x (10)\n",
    "        \n",
    "    def forward(self, x) :\n",
    "        x = self.pool(F.relu(self.conv1(x))) # 1 conv layer\n",
    "        x = self.pool(F.relu(self.conv2(x))) # 2 conv layer\n",
    "        x = x.view(-1, 16 * 5 * 5) # flatten\n",
    "        x = F.relu(self.fc1(x))\n",
    "        x = F.relu(self.fc2(x))\n",
    "        x = self.fc3(x) # softmax is skipped. because it's already include in nn.CrossEntropyLoss().\n",
    "        return x\n",
    "        \n",
    "        \n",
    "model = ConvNet().cuda()\n",
    "criterion = nn.CrossEntropyLoss()\n",
    "optimizer = torch.optim.SGD(model.parameters(), lr=learning_rate)"
   ]
  },
  {
   "cell_type": "code",
   "execution_count": 8,
   "metadata": {},
   "outputs": [
    {
     "name": "stdout",
     "output_type": "stream",
     "text": [
      "Epoch [1/5], Step [2000/12500], Loss : 2.3358\n",
      "Epoch [1/5], Step [4000/12500], Loss : 2.3329\n",
      "Epoch [1/5], Step [6000/12500], Loss : 2.3248\n",
      "Epoch [1/5], Step [8000/12500], Loss : 2.2633\n",
      "Epoch [1/5], Step [10000/12500], Loss : 2.1315\n",
      "Epoch [1/5], Step [12000/12500], Loss : 2.0839\n",
      "Epoch [2/5], Step [2000/12500], Loss : 2.8856\n",
      "Epoch [2/5], Step [4000/12500], Loss : 1.6629\n",
      "Epoch [2/5], Step [6000/12500], Loss : 1.9232\n",
      "Epoch [2/5], Step [8000/12500], Loss : 2.2539\n",
      "Epoch [2/5], Step [10000/12500], Loss : 1.8176\n",
      "Epoch [2/5], Step [12000/12500], Loss : 1.9880\n",
      "Epoch [3/5], Step [2000/12500], Loss : 2.4883\n",
      "Epoch [3/5], Step [4000/12500], Loss : 0.5665\n",
      "Epoch [3/5], Step [6000/12500], Loss : 1.3255\n",
      "Epoch [3/5], Step [8000/12500], Loss : 2.4549\n",
      "Epoch [3/5], Step [10000/12500], Loss : 1.3431\n",
      "Epoch [3/5], Step [12000/12500], Loss : 1.3010\n",
      "Epoch [4/5], Step [2000/12500], Loss : 1.2750\n",
      "Epoch [4/5], Step [4000/12500], Loss : 1.2894\n",
      "Epoch [4/5], Step [6000/12500], Loss : 1.3951\n",
      "Epoch [4/5], Step [8000/12500], Loss : 1.4746\n",
      "Epoch [4/5], Step [10000/12500], Loss : 1.8525\n",
      "Epoch [4/5], Step [12000/12500], Loss : 1.0448\n",
      "Epoch [5/5], Step [2000/12500], Loss : 1.0718\n",
      "Epoch [5/5], Step [4000/12500], Loss : 1.3756\n",
      "Epoch [5/5], Step [6000/12500], Loss : 0.9006\n",
      "Epoch [5/5], Step [8000/12500], Loss : 1.0147\n",
      "Epoch [5/5], Step [10000/12500], Loss : 1.4786\n",
      "Epoch [5/5], Step [12000/12500], Loss : 1.7271\n",
      "Finished Training\n"
     ]
    }
   ],
   "source": [
    "n_total_steps = len(train_loader)\n",
    "for epoch in range(num_epochs) : \n",
    "    for i, (images, labels) in enumerate(train_loader) :\n",
    "        # origin shape : [4, 3, 32, 32] = 4, 3, 1024\n",
    "        # input layer : 3 input channels, 6 output channels, 5 kernel size\n",
    "        images = images.cuda()\n",
    "        labels = labels.cuda()\n",
    "        \n",
    "        # Forward pass\n",
    "        outputs = model(images)\n",
    "        loss = criterion(outputs, labels)\n",
    "        \n",
    "        # Backward and optimze\n",
    "        optimizer.zero_grad()\n",
    "        loss.backward()\n",
    "        optimizer.step()\n",
    "        \n",
    "        if (i + 1) % 2000 == 0 :\n",
    "            print(f\"Epoch [{epoch+1}/{num_epochs}], Step [{i+1}/{n_total_steps}], Loss : {loss.item():.4f}\")\n",
    "            \n",
    "print(\"Finished Training\")\n",
    "        "
   ]
  },
  {
   "cell_type": "code",
   "execution_count": 9,
   "metadata": {},
   "outputs": [
    {
     "name": "stdout",
     "output_type": "stream",
     "text": [
      "Accuracy of the network : 48.94 %\n",
      "Accuracy of plan : 52.900000000000006 %\n",
      "Accuracy of car : 60.6 %\n",
      "Accuracy of bird : 25.8 %\n",
      "Accuracy of cat : 13.900000000000002 %\n",
      "Accuracy of deer : 34.4 %\n",
      "Accuracy of dog : 55.50000000000001 %\n",
      "Accuracy of frog : 68.0 %\n",
      "Accuracy of horse : 67.0 %\n",
      "Accuracy of ship : 52.0 %\n",
      "Accuracy of truck : 59.3 %\n"
     ]
    }
   ],
   "source": [
    "with torch.no_grad() :\n",
    "    n_correct = 0\n",
    "    n_samples = 0\n",
    "    n_class_correct = [0 for i in range(10)]\n",
    "    n_class_samples = [0 for i in range(10)]\n",
    "    for images, labels in test_loader :\n",
    "        images = images.cuda()\n",
    "        labels = labels.cuda()\n",
    "        outputs = model(images)\n",
    "        \n",
    "        # max returns (values, index)\n",
    "        _, preds = torch.max(outputs, 1) # Only 1st maximum value\n",
    "        n_samples += labels.size(0)\n",
    "        n_correct += (preds == labels).sum().item() # item() : [10] -> 10\n",
    "        \n",
    "        for i in range(batch_size) :\n",
    "            label = labels[i]\n",
    "            pred = preds[i]\n",
    "            if (label == pred) :\n",
    "                n_class_correct[label] += 1 # For each class.. if correct? +1\n",
    "            n_class_samples[label] += 1     # For each class.. +1\n",
    "    \n",
    "    acc = 100.0 * (n_correct / n_samples)\n",
    "    print(f\"Accuracy of the network : {acc} %\")\n",
    "    \n",
    "    for i in range(10) :\n",
    "        acc = 100.0 * (n_class_correct[i] / n_class_samples[i])\n",
    "        print(f\"Accuracy of {classes[i]} : {acc} %\")"
   ]
  },
  {
   "cell_type": "code",
   "execution_count": null,
   "metadata": {},
   "outputs": [],
   "source": []
  }
 ],
 "metadata": {
  "kernelspec": {
   "display_name": "base",
   "language": "python",
   "name": "python3"
  },
  "language_info": {
   "codemirror_mode": {
    "name": "ipython",
    "version": 3
   },
   "file_extension": ".py",
   "mimetype": "text/x-python",
   "name": "python",
   "nbconvert_exporter": "python",
   "pygments_lexer": "ipython3",
   "version": "3.9.18"
  }
 },
 "nbformat": 4,
 "nbformat_minor": 2
}
