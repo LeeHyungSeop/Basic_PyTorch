{
 "cells": [
  {
   "cell_type": "code",
   "execution_count": 21,
   "metadata": {},
   "outputs": [],
   "source": [
    "import torch\n",
    "import torch.nn as nn\n",
    "import numpy as np\n",
    "from sklearn import datasets\n",
    "from sklearn.preprocessing import StandardScaler\n",
    "from sklearn.model_selection import train_test_split"
   ]
  },
  {
   "cell_type": "code",
   "execution_count": 22,
   "metadata": {},
   "outputs": [
    {
     "name": "stdout",
     "output_type": "stream",
     "text": [
      "n_samples : 569, n_features : 30\n"
     ]
    }
   ],
   "source": [
    "# 0. Data preparing\n",
    "bc = datasets.load_breast_cancer()\n",
    "X, y = bc.data, bc.target\n",
    "\n",
    "n_samples, n_features = X.shape\n",
    "print(f\"n_samples : {n_samples}, n_features : {n_features}\")\n",
    "\n",
    "X_train, X_test, y_train, y_test = train_test_split(X, y, test_size=0.2, random_state=1234)\n",
    "\n",
    "# scale\n",
    "sc = StandardScaler() # X, y의 scale 조절\n",
    "X_train = sc.fit_transform(X_train)\n",
    "X_test = sc.fit_transform(X_test)\n",
    "\n",
    "X_train = torch.from_numpy(X_train.astype(np.float32)) \n",
    "X_test = torch.from_numpy(X_test.astype(np.float32)) \n",
    "y_train = torch.from_numpy(y_train.astype(np.float32)) \n",
    "y_test = torch.from_numpy(y_test.astype(np.float32)) \n",
    "\n",
    "y_train = y_train.view(y_train.shape[0], 1) # only 1 row\n",
    "y_test = y_test.view(y_test.shape[0], 1) # only 1 row"
   ]
  },
  {
   "cell_type": "code",
   "execution_count": 23,
   "metadata": {},
   "outputs": [],
   "source": [
    "# 1. Design model (input, output size, forward pass)\n",
    "# f = wx + b, sigmoid at the end\n",
    "\n",
    "class LogisticRegression(nn.Module) :\n",
    "    def __init__(self, n_input_features) : # n_input_features = n_features = 30\n",
    "        super(LogisticRegression, self).__init__()\n",
    "        self.linear = nn.Linear(n_input_features, 1) # (30, 1) -> input 30, output 1.\n",
    "        \n",
    "    def forward(self, x) :\n",
    "        y_pred = torch.sigmoid(self.linear(x))\n",
    "        return y_pred\n",
    "    \n",
    "model = LogisticRegression(n_features) # n_features = 30"
   ]
  },
  {
   "cell_type": "code",
   "execution_count": 24,
   "metadata": {},
   "outputs": [],
   "source": [
    "# 2. Construct loss and optimizer\n",
    "learning_rate = 0.01\n",
    "criterion = nn.BCELoss() # Binary Cross Entropy Loss\n",
    "optimizer = torch.optim.SGD(model.parameters(), lr=learning_rate)"
   ]
  },
  {
   "cell_type": "code",
   "execution_count": 25,
   "metadata": {},
   "outputs": [
    {
     "name": "stdout",
     "output_type": "stream",
     "text": [
      "epoch : 10, loss = 0.4937\n",
      "epoch : 20, loss = 0.4202\n",
      "epoch : 30, loss = 0.3709\n",
      "epoch : 40, loss = 0.3355\n",
      "epoch : 50, loss = 0.3087\n",
      "epoch : 60, loss = 0.2876\n",
      "epoch : 70, loss = 0.2706\n",
      "epoch : 80, loss = 0.2563\n",
      "epoch : 90, loss = 0.2442\n",
      "epoch : 100, loss = 0.2338\n"
     ]
    }
   ],
   "source": [
    "# 3. Training loop\n",
    "#   - forward pass: compute prediction\n",
    "#   - backward pass: gradients\n",
    "#   - update weights\n",
    "\n",
    "num_epochs = 100\n",
    "for epoch in range(num_epochs) :\n",
    "    #   - forward pass: compute prediction\n",
    "    y_pred = model(X_train)\n",
    "    loss = criterion(y_pred, y_train)\n",
    "    \n",
    "    #   - backward pass: gradients\n",
    "    loss.backward()\n",
    "    \n",
    "    #   - update weights\n",
    "    optimizer.step()\n",
    "    optimizer.zero_grad() # gradient가 누적되는 것을 막기 위해\n",
    "    \n",
    "    if (epoch+1) % 10 == 0:\n",
    "        print(f\"epoch : {epoch + 1}, loss = {loss.item():.4f}\")"
   ]
  },
  {
   "cell_type": "code",
   "execution_count": 26,
   "metadata": {},
   "outputs": [
    {
     "name": "stdout",
     "output_type": "stream",
     "text": [
      "accuracy = 0.9123\n"
     ]
    }
   ],
   "source": [
    "# 4. Evaluation\n",
    "\n",
    "with torch.no_grad() :\n",
    "    y_pred = model(X_test)\n",
    "    y_pred_class = y_pred.round() # sigmoid 출력의 0~1 사이의 확률값을 0 or 1로 바꿔준다.\n",
    "    accuracy = y_pred_class.eq(y_test).sum() / float(y_test.shape[0]) # prediction이 것을 모두 더하고 전체 개수로 나눈다 = 맞은 개수의 비율\n",
    "    print(f\"accuracy = {accuracy:.4f}\")"
   ]
  },
  {
   "cell_type": "code",
   "execution_count": null,
   "metadata": {},
   "outputs": [],
   "source": []
  }
 ],
 "metadata": {
  "kernelspec": {
   "display_name": "base",
   "language": "python",
   "name": "python3"
  },
  "language_info": {
   "codemirror_mode": {
    "name": "ipython",
    "version": 3
   },
   "file_extension": ".py",
   "mimetype": "text/x-python",
   "name": "python",
   "nbconvert_exporter": "python",
   "pygments_lexer": "ipython3",
   "version": "3.9.7"
  }
 },
 "nbformat": 4,
 "nbformat_minor": 2
}
