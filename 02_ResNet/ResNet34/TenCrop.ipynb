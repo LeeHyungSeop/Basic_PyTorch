{
 "cells": [
  {
   "cell_type": "markdown",
   "metadata": {},
   "source": [
    "MY_Resnet34_exp1 best model TenCrop test"
   ]
  },
  {
   "cell_type": "code",
   "execution_count": 1,
   "metadata": {},
   "outputs": [],
   "source": [
    "import torch\n",
    "import torch.optim as optim\n",
    "import torch.nn as nn\n",
    "import torchvision\n",
    "from torchvision import datasets, models, transforms\n",
    "import os\n",
    "from torch.utils.data import random_split\n",
    "\n",
    "from urllib.request import urlretrieve\n",
    "import json\n",
    "\n",
    "import matplotlib.pyplot as plt\n",
    "import PIL"
   ]
  },
  {
   "cell_type": "code",
   "execution_count": 11,
   "metadata": {},
   "outputs": [],
   "source": [
    "valset = torchvision.datasets.ImageFolder(\n",
    "    root='/home/hslee/Desktop/Datasets/ILSVRC2012_ImageNet/val',\n",
    "    transform=transforms.Compose([\n",
    "        # 10-crop\n",
    "        # transforms.Resize(256),\n",
    "        transforms.Resize((256 + 480) // 2),\n",
    "        transforms.TenCrop(224),    \n",
    "        transforms.Lambda(lambda crops: torch.stack([transforms.ToTensor()(crop) for crop in crops])),\n",
    "        transforms.Normalize(mean=[0.485, 0.456, 0.406], std=[0.229, 0.224, 0.225]),\n",
    "    ])\n",
    ")"
   ]
  },
  {
   "cell_type": "code",
   "execution_count": 12,
   "metadata": {},
   "outputs": [],
   "source": [
    "mini_batch_size = 64\n",
    "\n",
    "# make valloader\n",
    "val_loader = torch.utils.data.DataLoader(\n",
    "    valset, batch_size=mini_batch_size, shuffle=True, num_workers=8, pin_memory=True\n",
    ")"
   ]
  },
  {
   "cell_type": "code",
   "execution_count": 13,
   "metadata": {},
   "outputs": [],
   "source": [
    "class BuildingBlock(nn.Module) :\n",
    "    def __init__(self, in_channels, out_channels) :\n",
    "        super().__init__()\n",
    "        self.in_channels = in_channels\n",
    "        self.out_channels = out_channels\n",
    "        self.stride = 1      # In block without down_sampling, stride is 1.\n",
    "        self.kernel_size = 3 # In block without down_sampling, kernel_size is 3.\n",
    "        self.padding = 1\n",
    "        \n",
    "        self.conv1 = nn.Conv2d(in_channels, out_channels, kernel_size=self.kernel_size, stride=self.stride, padding=self.padding, bias=False)\n",
    "        self.bn1 = nn.BatchNorm2d(out_channels, eps=1e-05, momentum=0.1, affine=True, track_running_stats=True)\n",
    "        self.relu1 = nn.ReLU(inplace=True)\n",
    "        self.conv2 = nn.Conv2d(out_channels, out_channels, kernel_size=self.kernel_size, stride=self.stride, padding=self.padding, bias=False) \n",
    "        self.bn2 = nn.BatchNorm2d(out_channels, eps=1e-05, momentum=0.1, affine=True, track_running_stats=True)\n",
    "        self.relu2 = nn.ReLU(inplace=True)\n",
    "    \n",
    "    def forward(self, x) : \n",
    "        identity = x\n",
    "        \n",
    "        out = self.conv1(x)\n",
    "        out = self.bn1(out)\n",
    "        out = self.relu1(out)\n",
    "        out = self.conv2(out)\n",
    "        out = self.bn2(out)\n",
    "        \n",
    "        out += identity # identity mapping\n",
    "        out = self.relu2(out)\n",
    "        \n",
    "        return out"
   ]
  },
  {
   "cell_type": "code",
   "execution_count": 14,
   "metadata": {},
   "outputs": [],
   "source": [
    "class BuildingBlockWithDownSample(nn.Module) :\n",
    "    def __init__(self, in_channels, out_channels) :\n",
    "        super().__init__()\n",
    "        self.in_channels = in_channels\n",
    "        self.out_channels = out_channels\n",
    "        self.kernel_size = 3\n",
    "        self.down_sampling_kernel_size = 1\n",
    "        self.conv1_stride = 2 # In block with down_sampling, conv1's stride is 2.\n",
    "        self.conv2_stride = 1 # In block with down_sampling, conv2's stride is 1.\n",
    "        self.padding = 1\n",
    "\n",
    "        self.conv1 = nn.Conv2d(in_channels, out_channels, kernel_size=self.kernel_size, stride=self.conv1_stride, padding=self.padding, bias=False)\n",
    "        self.bn1 = nn.BatchNorm2d(out_channels, eps=1e-05, momentum=0.1, affine=True, track_running_stats=True)\n",
    "        self.relu1 = nn.ReLU(inplace=True)\n",
    "        self.conv2 = nn.Conv2d(out_channels, out_channels, kernel_size=self.kernel_size, stride=self.conv2_stride, padding=self.padding, bias=False) \n",
    "        self.bn2 = nn.BatchNorm2d(out_channels, eps=1e-05, momentum=0.1, affine=True, track_running_stats=True)\n",
    "        self.relu2 = nn.ReLU(inplace=True)\n",
    "        \n",
    "        # (projection shortcut) : H, W of activation map are down_sampled, C of activation map is up_sampled\n",
    "        self.downsample = nn.Sequential(\n",
    "            nn.Conv2d(in_channels, out_channels, kernel_size=self.down_sampling_kernel_size, stride=self.conv1_stride, padding=0, bias=False),\n",
    "            nn.BatchNorm2d(out_channels, eps=1e-05, momentum=0.1, affine=True, track_running_stats=True),\n",
    "        )\n",
    "    \n",
    "    def forward(self, x) : \n",
    "        identity = self.downsample(x) # projection shortcut \n",
    "        \n",
    "        out = self.conv1(x)\n",
    "        out = self.bn1(out)\n",
    "        out = self.relu1(out)\n",
    "        out = self.conv2(out)\n",
    "        out = self.bn2(out)\n",
    "        \n",
    "        out += identity       # projection shortcut\n",
    "        out = self.relu2(out) # block output\n",
    "        \n",
    "        return out\n",
    "        \n",
    "        "
   ]
  },
  {
   "cell_type": "code",
   "execution_count": 15,
   "metadata": {},
   "outputs": [],
   "source": [
    "# Class ResNet34 > Class BuildingBlock, Class BuildingBlockWithDownSample\n",
    "class MyResNet34(nn.Module) :\n",
    "    def __init__(self) :\n",
    "        super().__init__()\n",
    "        num_classes : int = 1000\n",
    "        \n",
    "        self.layer0 = nn.Sequential( # 2\n",
    "            nn.Conv2d(3, 64, kernel_size=7, stride=2, padding=3, bias=False),\n",
    "            nn.BatchNorm2d(64, eps=1e-05, momentum=0.1, affine=True, track_running_stats=True), # affine : True ? gamma, beta, track_running_stats : True ? running_mean, running_var\n",
    "            nn.ReLU(inplace=True),\n",
    "            nn.MaxPool2d(kernel_size=3, stride=2, padding=1),\n",
    "        )\n",
    "        self.layer1 = nn.Sequential( # 3 * 2 = 6\n",
    "            BuildingBlock(64, 64), # identity mapping\n",
    "            BuildingBlock(64, 64), # identity mapping\n",
    "            BuildingBlock(64, 64), # identity mapping\n",
    "        )\n",
    "        self.layer2 = nn.Sequential( # 4 * 2 = 8\n",
    "            BuildingBlockWithDownSample(64, 128), # projection shortcut\n",
    "            BuildingBlock(128, 128), # identity mapping\n",
    "            BuildingBlock(128, 128), # identity mapping\n",
    "            BuildingBlock(128, 128), # identity mapping\n",
    "        )\n",
    "        self.layer3 = nn.Sequential( # 5 * 2 = 10\n",
    "            BuildingBlockWithDownSample(128, 256), # projection shortcut\n",
    "            BuildingBlock(256, 256),\n",
    "            BuildingBlock(256, 256),\n",
    "            BuildingBlock(256, 256),\n",
    "            BuildingBlock(256, 256),\n",
    "            BuildingBlock(256, 256),\n",
    "        )\n",
    "        self.layer4 = nn.Sequential( # 3 * 2 = 6\n",
    "            BuildingBlockWithDownSample(256, 512), # projection shortcut\n",
    "            BuildingBlock(512, 512),\n",
    "            BuildingBlock(512, 512),\n",
    "        )\n",
    "        self.layer5 = nn.Sequential( # 2\n",
    "            nn.AdaptiveAvgPool2d((1, 1)),\n",
    "            nn.Flatten(),\n",
    "            nn.Linear(512, num_classes, bias=True),\n",
    "        )\n",
    "        \n",
    "    def forward(self, x) : \n",
    "        ## Input size : 224 x 224 x 3 -> 112 x 112 x 64 -> Output size : 56 x 56 x 64\n",
    "        x = self.layer0(x)\n",
    "        ## Input size : 56 x 56 x 64, Output size : 56 x 56 x 64\n",
    "        x = self.layer1(x)\n",
    "        ## Input size : 56 x 56 x 64, Output size : 28 x 28 x 128\n",
    "        x = self.layer2(x)\n",
    "        ## Input size : 28 x 28 x 128, Output size : 7 x 7 x 512\n",
    "        x = self.layer3(x)\n",
    "        ## Input size : 7 x 7 x 512, Output size : 1 x 1 x 512\n",
    "        x = self.layer4(x)\n",
    "        ## Input size : (mini_batch_size) x 1 x 1 x 512 ->  1 x 1 x 512 -> Output size : 1 x 1 x 1000\n",
    "        x = self.layer5(x)\n",
    "        \n",
    "        return x        \n",
    "        "
   ]
  },
  {
   "cell_type": "code",
   "execution_count": 16,
   "metadata": {},
   "outputs": [
    {
     "data": {
      "text/plain": [
       "<All keys matched successfully>"
      ]
     },
     "execution_count": 16,
     "metadata": {},
     "output_type": "execute_result"
    }
   ],
   "source": [
    "# training details\n",
    "## randomly sample 224×224 crops for data augmentation.\n",
    "## We use a mini-batch size of 256 images for fine-tuning\n",
    "## The learning rate starts from 0.1 and is divided by 10 when the error plateaus, and the models are trained for up to 60 × 10^4 iterations.\n",
    "## We use a weight decay of 0.0001 and a momentum of 0.9. We do not use dropout\n",
    "## We initialize the learning rate for the pre-trained network to be 0.01\n",
    "model = MyResNet34()\n",
    "\n",
    "# load pre-trained model\n",
    "model.load_state_dict(torch.load(\"./My_ResNet34_exp4_Checkpoint/best_model.pth\"))"
   ]
  },
  {
   "cell_type": "code",
   "execution_count": 17,
   "metadata": {},
   "outputs": [
    {
     "name": "stdout",
     "output_type": "stream",
     "text": [
      "cuda:0\n",
      "num_val_batch : 782\n"
     ]
    }
   ],
   "source": [
    "device = torch.device(\"cuda:0\" if torch.cuda.is_available() else \"cpu\")\n",
    "print(device)\n",
    "\n",
    "criterion = nn.CrossEntropyLoss()\n",
    "\n",
    "num_val_batch = len(val_loader)     # the number of val batches   =   196 (   50,000 / mini_batch_size)\n",
    "print(f\"num_val_batch : {num_val_batch}\")"
   ]
  },
  {
   "cell_type": "code",
   "execution_count": 18,
   "metadata": {},
   "outputs": [
    {
     "name": "stdout",
     "output_type": "stream",
     "text": [
      "val loss : 1.1186861605443004\n",
      "val acc : 73.006%\n",
      "error rate : 26.994%\n"
     ]
    }
   ],
   "source": [
    "# best model에 대한 top-1 accuracy 계산\n",
    "model.load_state_dict(torch.load(\"./My_ResNet34_exp4_Checkpoint/best_model.pth\"))\n",
    "\n",
    "val_loss = 0.0\n",
    "correct = 0\n",
    "total = 0\n",
    "model.eval().to(device)\n",
    "with torch.no_grad():\n",
    "    for batch in val_loader:\n",
    "        input, target = batch\n",
    "        input, target = input.to(device), target.to(device)\n",
    "        bs, ncrops, c, h, w = input.size()\n",
    "        result = model(input.view(-1, c, h, w))\n",
    "        result_avg = result.view(bs, ncrops, -1).mean(1)\n",
    "        loss = criterion(result_avg, target)\n",
    "        \n",
    "        val_loss += loss.item()\n",
    "        _, predicted = result_avg.max(1)\n",
    "        total += target.size(0)\n",
    "        correct += predicted.eq(target).sum().item()\n",
    "print(f\"val loss : {val_loss / num_val_batch}\")\n",
    "print(f\"val acc : {100. * correct / total}%\")\n",
    "print(f\"error rate : {100. * (total - correct) / total}%\")\n"
   ]
  },
  {
   "cell_type": "code",
   "execution_count": 19,
   "metadata": {},
   "outputs": [
    {
     "name": "stdout",
     "output_type": "stream",
     "text": [
      "val loss : 1.118527201130567\n",
      "val acc : 91.678%\n",
      "error rate : 8.322%\n"
     ]
    },
    {
     "ename": "",
     "evalue": "",
     "output_type": "error",
     "traceback": [
      "\u001b[1;31mThe Kernel crashed while executing code in the the current cell or a previous cell. Please review the code in the cell(s) to identify a possible cause of the failure. Click <a href='https://aka.ms/vscodeJupyterKernelCrash'>here</a> for more info. View Jupyter <a href='command:jupyter.viewOutput'>log</a> for further details."
     ]
    }
   ],
   "source": [
    "# best model에 대한 top-5 accuracy 계산, TenCrop\n",
    "model.load_state_dict(torch.load(\"./My_ResNet34_exp4_Checkpoint/best_model.pth\"))\n",
    "\n",
    "val_loss = 0.0\n",
    "correct = 0\n",
    "total = 0\n",
    "model.eval().to(device)\n",
    "with torch.no_grad():\n",
    "    for batch in val_loader:\n",
    "        input, target = batch\n",
    "        input, target = input.to(device), target.to(device)\n",
    "        bs, ncrops, c, h, w = input.size()\n",
    "        result = model(input.view(-1, c, h, w))\n",
    "        result_avg = result.view(bs, ncrops, -1).mean(1)\n",
    "        loss = criterion(result_avg, target)\n",
    "        \n",
    "        val_loss += loss.item()\n",
    "        _, predicted = result_avg.topk(5, 1, True, True)\n",
    "        total += target.size(0)\n",
    "        correct += predicted.eq(target.view(-1, 1).expand_as(predicted)).sum().item()     \n",
    "\n",
    "print(f\"val loss : {val_loss / num_val_batch}\")\n",
    "print(f\"val acc : {100. * correct / total}%\")\n",
    "print(f\"error rate : {100. * (total - correct) / total}%\")"
   ]
  },
  {
   "cell_type": "code",
   "execution_count": null,
   "metadata": {},
   "outputs": [],
   "source": []
  }
 ],
 "metadata": {
  "kernelspec": {
   "display_name": "DL",
   "language": "python",
   "name": "python3"
  },
  "language_info": {
   "codemirror_mode": {
    "name": "ipython",
    "version": 3
   },
   "file_extension": ".py",
   "mimetype": "text/x-python",
   "name": "python",
   "nbconvert_exporter": "python",
   "pygments_lexer": "ipython3",
   "version": "3.10.13"
  }
 },
 "nbformat": 4,
 "nbformat_minor": 2
}
