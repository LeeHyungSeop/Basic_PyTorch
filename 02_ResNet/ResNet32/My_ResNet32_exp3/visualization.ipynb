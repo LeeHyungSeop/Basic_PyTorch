{
 "cells": [
  {
   "cell_type": "code",
   "execution_count": 1,
   "metadata": {},
   "outputs": [],
   "source": [
    "import pickle"
   ]
  },
  {
   "cell_type": "code",
   "execution_count": 4,
   "metadata": {},
   "outputs": [],
   "source": [
    "# My_ResNet32_ReLU_BN_exp1_checkpoint/top1_acc.pkl\n",
    "# My_ResNet32_ReLU_BN_exp1_checkpoint/top5_acc.pkl\n",
    "# My_ResNet32_ReLU_BN_exp1_checkpoint/train_acc_list.pkl\n",
    "# My_ResNet32_ReLU_BN_exp1_checkpoint/train_loss_list.pkl\n",
    "# My_ResNet32_ReLU_BN_exp1_checkpoint/val_acc_list.pkl\n",
    "# My_ResNet32_ReLU_BN_exp1_checkpoint/val_loss_list.pkl\n",
    "\n",
    "with open('My_ResNet32_ReLU_BN_exp1_checkpoint/top1_acc.pkl', 'rb') as f:\n",
    "    top1_acc = pickle.load(f)\n",
    "with open('My_ResNet32_ReLU_BN_exp1_checkpoint/top5_acc.pkl', 'rb') as f:\n",
    "    top5_acc = pickle.load(f)\n",
    "with open('My_ResNet32_ReLU_BN_exp1_checkpoint/train_acc_list.pkl', 'rb') as f:\n",
    "    train_acc_list = pickle.load(f)\n",
    "with open('My_ResNet32_ReLU_BN_exp1_checkpoint/train_loss_list.pkl', 'rb') as f:\n",
    "    train_loss_list = pickle.load(f)\n",
    "with open('My_ResNet32_ReLU_BN_exp1_checkpoint/val_acc_list.pkl', 'rb') as f:\n",
    "    val_acc_list = pickle.load(f)\n",
    "with open('My_ResNet32_ReLU_BN_exp1_checkpoint/val_loss_list.pkl', 'rb') as f:\n",
    "    val_loss_list = pickle.load(f)\n",
    "    "
   ]
  },
  {
   "cell_type": "code",
   "execution_count": 5,
   "metadata": {},
   "outputs": [
    {
     "name": "stdout",
     "output_type": "stream",
     "text": [
      "Top1 Acc: 91.79\n",
      "Top5 Acc: 99.72\n"
     ]
    }
   ],
   "source": [
    "print(f\"Top1 Acc: {top1_acc}\")\n",
    "print(f\"Top5 Acc: {top5_acc}\")"
   ]
  },
  {
   "cell_type": "code",
   "execution_count": null,
   "metadata": {},
   "outputs": [],
   "source": []
  }
 ],
 "metadata": {
  "kernelspec": {
   "display_name": "DL",
   "language": "python",
   "name": "python3"
  },
  "language_info": {
   "codemirror_mode": {
    "name": "ipython",
    "version": 3
   },
   "file_extension": ".py",
   "mimetype": "text/x-python",
   "name": "python",
   "nbconvert_exporter": "python",
   "pygments_lexer": "ipython3",
   "version": "3.10.13"
  }
 },
 "nbformat": 4,
 "nbformat_minor": 2
}
