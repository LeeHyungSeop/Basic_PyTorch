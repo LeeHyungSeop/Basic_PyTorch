{
 "cells": [
  {
   "cell_type": "markdown",
   "metadata": {},
   "source": [
    "# Optimizing model parameters"
   ]
  },
  {
   "cell_type": "code",
   "execution_count": 1,
   "metadata": {},
   "outputs": [],
   "source": [
    "import torch\n",
    "from torch import nn\n",
    "from torch.utils.data import DataLoader\n",
    "from torchvision import datasets\n",
    "from torchvision.transforms import ToTensor"
   ]
  },
  {
   "cell_type": "code",
   "execution_count": 2,
   "metadata": {},
   "outputs": [],
   "source": [
    "training_data = datasets.FashionMNIST(\n",
    "    root=\"/home/hslee/Desktop/Datasets/\",\n",
    "    train=True,\n",
    "    download=True,\n",
    "    transform=ToTensor()\n",
    ")\n",
    "\n",
    "test_data = datasets.FashionMNIST(\n",
    "    root=\"/home/hslee/Desktop/Datasets/\",\n",
    "    train=False,\n",
    "    download=True,\n",
    "    transform=ToTensor()\n",
    ")\n",
    "\n",
    "train_dataloader = DataLoader(training_data, batch_size=64)\n",
    "test_dataloader = DataLoader(test_data, batch_size=64)"
   ]
  },
  {
   "cell_type": "code",
   "execution_count": 3,
   "metadata": {},
   "outputs": [],
   "source": [
    "class NeuralNetwork(nn.Module) :\n",
    "    def __init__(self) :\n",
    "        super().__init__()\n",
    "        self.flatten = nn.Flatten()\n",
    "        self.linear_relu_stack = nn.Sequential(\n",
    "            nn.Linear(28*28, 512),\n",
    "            nn.ReLU(),\n",
    "            nn.Linear(512,512),\n",
    "            nn.ReLU(),\n",
    "            nn.Linear(512,10),\n",
    "            nn.ReLU()\n",
    "        )\n",
    "    \n",
    "    def forward(self, x) :\n",
    "        x = self.flatten(x)\n",
    "        logits = self.linear_relu_stack(x)\n",
    "        return logits\n",
    "    \n",
    "model = NeuralNetwork()"
   ]
  },
  {
   "cell_type": "markdown",
   "metadata": {},
   "source": [
    "# Hyperparameters"
   ]
  },
  {
   "cell_type": "code",
   "execution_count": 4,
   "metadata": {},
   "outputs": [],
   "source": [
    "learning_rate = 1e-3\n",
    "batch_size = 64\n",
    "epochs = 5"
   ]
  },
  {
   "cell_type": "markdown",
   "metadata": {},
   "source": [
    "# Optimization Loop"
   ]
  },
  {
   "cell_type": "markdown",
   "metadata": {},
   "source": [
    "## Loss Function"
   ]
  },
  {
   "cell_type": "code",
   "execution_count": 7,
   "metadata": {},
   "outputs": [],
   "source": [
    "loss_fn = nn.CrossEntropyLoss()"
   ]
  },
  {
   "cell_type": "markdown",
   "metadata": {},
   "source": [
    "## Optimizer"
   ]
  },
  {
   "cell_type": "code",
   "execution_count": 6,
   "metadata": {},
   "outputs": [],
   "source": [
    "optimizer = torch.optim.SGD(model.parameters(), lr=learning_rate)"
   ]
  },
  {
   "cell_type": "markdown",
   "metadata": {},
   "source": [
    "## Train loop"
   ]
  },
  {
   "cell_type": "code",
   "execution_count": 14,
   "metadata": {},
   "outputs": [],
   "source": [
    "def train_loop(dataloader, model, loss_fn, optimizer) :\n",
    "    size = len(dataloader.dataset)\n",
    "    model.train()\n",
    "    for batch, (X, y) in enumerate(dataloader) :\n",
    "        # Compute prediction and loss \n",
    "        pred = model(X) # model.forward(X)을 직접 호출해줌\n",
    "        loss = loss_fn(pred, y)\n",
    "        \n",
    "        # Backpropagation\n",
    "        loss.backward()\n",
    "        optimizer.step()\n",
    "        optimizer.zero_grad()\n",
    "        \n",
    "        if batch % 100 == 0 :\n",
    "            loss, current = loss.item(), batch * len(X)\n",
    "            print(f\"loss: {loss:>7f} [{current:>5d}/{size:>5d}]\")\n",
    "            \n",
    "def test_loop(dataloader, model, loss_fn) :\n",
    "    size = len(dataloader.dataset)\n",
    "    model.eval()\n",
    "    num_batches = len(dataloader)\n",
    "    test_loss, correct = 0, 0\n",
    "    \n",
    "    with torch.no_grad() :\n",
    "        for X, y in dataloader :\n",
    "            pred = model.forward(X)\n",
    "            test_loss += loss_fn(pred, y).item()\n",
    "            correct += (pred.argmax(1) == y).type(torch.float).sum().item()\n",
    "            \n",
    "    test_loss /= num_batches\n",
    "    correct /= size\n",
    "    print(f\"Test Error : \\n Accuracy : {(100*correct):>0.1f}%, Avg loss : {test_loss:>8f}\\n\")\n",
    "                \n",
    "        "
   ]
  },
  {
   "cell_type": "code",
   "execution_count": 13,
   "metadata": {},
   "outputs": [
    {
     "name": "stdout",
     "output_type": "stream",
     "text": [
      "Epoch 1\n",
      "-------------------------------\n",
      "loss: 2.302387 [    0/60000]\n",
      "loss: 2.294538 [ 6400/60000]\n",
      "loss: 2.276784 [12800/60000]\n",
      "loss: 2.273392 [19200/60000]\n",
      "loss: 2.266725 [25600/60000]\n",
      "loss: 2.248604 [32000/60000]\n",
      "loss: 2.258590 [38400/60000]\n",
      "loss: 2.232116 [44800/60000]\n",
      "loss: 2.249221 [51200/60000]\n",
      "loss: 2.190337 [57600/60000]\n",
      "Test Error : \n",
      " Accuracy : 39.5%, Avg loss : 2.201375\n",
      "\n",
      "Epoch 2\n",
      "-------------------------------\n",
      "loss: 2.227686 [    0/60000]\n",
      "loss: 2.215777 [ 6400/60000]\n",
      "loss: 2.170330 [12800/60000]\n",
      "loss: 2.173150 [19200/60000]\n",
      "loss: 2.124080 [25600/60000]\n",
      "loss: 2.104861 [32000/60000]\n",
      "loss: 2.116305 [38400/60000]\n",
      "loss: 2.066200 [44800/60000]\n",
      "loss: 2.129580 [51200/60000]\n",
      "loss: 1.990629 [57600/60000]\n",
      "Test Error : \n",
      " Accuracy : 50.0%, Avg loss : 2.025319\n",
      "\n",
      "Epoch 3\n",
      "-------------------------------\n",
      "loss: 2.095104 [    0/60000]\n",
      "loss: 2.058726 [ 6400/60000]\n",
      "loss: 1.989639 [12800/60000]\n",
      "loss: 1.994377 [19200/60000]\n",
      "loss: 1.872549 [25600/60000]\n",
      "loss: 1.878177 [32000/60000]\n",
      "loss: 1.886233 [38400/60000]\n",
      "loss: 1.820736 [44800/60000]\n",
      "loss: 1.946257 [51200/60000]\n",
      "loss: 1.696027 [57600/60000]\n",
      "Test Error : \n",
      " Accuracy : 54.9%, Avg loss : 1.771088\n",
      "\n",
      "Epoch 4\n",
      "-------------------------------\n",
      "loss: 1.912861 [    0/60000]\n",
      "loss: 1.849790 [ 6400/60000]\n",
      "loss: 1.770363 [12800/60000]\n",
      "loss: 1.753483 [19200/60000]\n",
      "loss: 1.563613 [25600/60000]\n",
      "loss: 1.652585 [32000/60000]\n",
      "loss: 1.618890 [38400/60000]\n",
      "loss: 1.587223 [44800/60000]\n",
      "loss: 1.741048 [51200/60000]\n",
      "loss: 1.405769 [57600/60000]\n",
      "Test Error : \n",
      " Accuracy : 57.7%, Avg loss : 1.527756\n",
      "\n",
      "Epoch 5\n",
      "-------------------------------\n",
      "loss: 1.730177 [    0/60000]\n",
      "loss: 1.659400 [ 6400/60000]\n",
      "loss: 1.578456 [12800/60000]\n",
      "loss: 1.539342 [19200/60000]\n",
      "loss: 1.300916 [25600/60000]\n",
      "loss: 1.477180 [32000/60000]\n",
      "loss: 1.404783 [38400/60000]\n",
      "loss: 1.412565 [44800/60000]\n",
      "loss: 1.568845 [51200/60000]\n",
      "loss: 1.205052 [57600/60000]\n",
      "Test Error : \n",
      " Accuracy : 58.6%, Avg loss : 1.348040\n",
      "\n",
      "Epoch 6\n",
      "-------------------------------\n",
      "loss: 1.569811 [    0/60000]\n",
      "loss: 1.510450 [ 6400/60000]\n",
      "loss: 1.421318 [12800/60000]\n",
      "loss: 1.392170 [19200/60000]\n",
      "loss: 1.118451 [25600/60000]\n",
      "loss: 1.346646 [32000/60000]\n",
      "loss: 1.263311 [38400/60000]\n",
      "loss: 1.292325 [44800/60000]\n",
      "loss: 1.442341 [51200/60000]\n",
      "loss: 1.084089 [57600/60000]\n",
      "Test Error : \n",
      " Accuracy : 59.3%, Avg loss : 1.227730\n",
      "\n",
      "Epoch 7\n",
      "-------------------------------\n",
      "loss: 1.444049 [    0/60000]\n",
      "loss: 1.405164 [ 6400/60000]\n",
      "loss: 1.298685 [12800/60000]\n",
      "loss: 1.294492 [19200/60000]\n",
      "loss: 1.007292 [25600/60000]\n",
      "loss: 1.252314 [32000/60000]\n",
      "loss: 1.171932 [38400/60000]\n",
      "loss: 1.210274 [44800/60000]\n",
      "loss: 1.351750 [51200/60000]\n",
      "loss: 1.008194 [57600/60000]\n",
      "Test Error : \n",
      " Accuracy : 60.1%, Avg loss : 1.147065\n",
      "\n",
      "Epoch 8\n",
      "-------------------------------\n",
      "loss: 1.350907 [    0/60000]\n",
      "loss: 1.331770 [ 6400/60000]\n",
      "loss: 1.206103 [12800/60000]\n",
      "loss: 1.226831 [19200/60000]\n",
      "loss: 0.937858 [25600/60000]\n",
      "loss: 1.183120 [32000/60000]\n",
      "loss: 1.109857 [38400/60000]\n",
      "loss: 1.152255 [44800/60000]\n",
      "loss: 1.284616 [51200/60000]\n",
      "loss: 0.957009 [57600/60000]\n",
      "Test Error : \n",
      " Accuracy : 61.1%, Avg loss : 1.089901\n",
      "\n",
      "Epoch 9\n",
      "-------------------------------\n",
      "loss: 1.278284 [    0/60000]\n",
      "loss: 1.276791 [ 6400/60000]\n",
      "loss: 1.134398 [12800/60000]\n",
      "loss: 1.177035 [19200/60000]\n",
      "loss: 0.890441 [25600/60000]\n",
      "loss: 1.130827 [32000/60000]\n",
      "loss: 1.064480 [38400/60000]\n",
      "loss: 1.109599 [44800/60000]\n",
      "loss: 1.208841 [51200/60000]\n",
      "loss: 0.902441 [57600/60000]\n",
      "Test Error : \n",
      " Accuracy : 63.4%, Avg loss : 0.968677\n",
      "\n",
      "Epoch 10\n",
      "-------------------------------\n",
      "loss: 1.074726 [    0/60000]\n",
      "loss: 1.069908 [ 6400/60000]\n",
      "loss: 0.843098 [12800/60000]\n",
      "loss: 0.987358 [19200/60000]\n",
      "loss: 0.819877 [25600/60000]\n",
      "loss: 0.898532 [32000/60000]\n",
      "loss: 0.931741 [38400/60000]\n",
      "loss: 0.870984 [44800/60000]\n",
      "loss: 0.891084 [51200/60000]\n",
      "loss: 0.840666 [57600/60000]\n",
      "Test Error : \n",
      " Accuracy : 69.7%, Avg loss : 0.851490\n",
      "\n",
      "Done!\n"
     ]
    }
   ],
   "source": [
    "loss_fn = nn.CrossEntropyLoss()\n",
    "optimizer = torch.optim.SGD(model.parameters(), lr=learning_rate)\n",
    "\n",
    "epochs = 10\n",
    "for t in range(epochs):\n",
    "    print(f\"Epoch {t+1}\\n-------------------------------\")\n",
    "    train_loop(train_dataloader, model, loss_fn, optimizer)\n",
    "    test_loop(test_dataloader, model, loss_fn)\n",
    "print(\"Done!\")"
   ]
  },
  {
   "cell_type": "code",
   "execution_count": null,
   "metadata": {},
   "outputs": [],
   "source": []
  }
 ],
 "metadata": {
  "kernelspec": {
   "display_name": "base",
   "language": "python",
   "name": "python3"
  },
  "language_info": {
   "codemirror_mode": {
    "name": "ipython",
    "version": 3
   },
   "file_extension": ".py",
   "mimetype": "text/x-python",
   "name": "python",
   "nbconvert_exporter": "python",
   "pygments_lexer": "ipython3",
   "version": "3.9.18"
  }
 },
 "nbformat": 4,
 "nbformat_minor": 2
}
