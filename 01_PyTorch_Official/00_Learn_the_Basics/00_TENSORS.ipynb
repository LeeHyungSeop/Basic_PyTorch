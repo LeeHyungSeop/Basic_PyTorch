{
 "cells": [
  {
   "cell_type": "code",
   "execution_count": 1,
   "metadata": {},
   "outputs": [],
   "source": [
    "import torch \n",
    "import numpy as np"
   ]
  },
  {
   "cell_type": "markdown",
   "metadata": {},
   "source": [
    "# Initializing a Tensor"
   ]
  },
  {
   "cell_type": "markdown",
   "metadata": {},
   "source": [
    "## Directly from data"
   ]
  },
  {
   "cell_type": "code",
   "execution_count": 2,
   "metadata": {},
   "outputs": [
    {
     "name": "stdout",
     "output_type": "stream",
     "text": [
      "x_data : tensor([[1, 2],\n",
      "        [3, 4]])\n",
      "x_data.shape : torch.Size([2, 2])\n",
      "x_data.dim() : 2\n",
      "x_data.dtype : torch.int64\n"
     ]
    }
   ],
   "source": [
    "data = [\n",
    "    [1, 2],\n",
    "    [3, 4]\n",
    "]\n",
    "\n",
    "x_data = torch.tensor(data)\n",
    "print(f\"x_data : {x_data}\")\n",
    "print(f\"x_data.shape : {x_data.shape}\")\n",
    "print(f\"x_data.dim() : {x_data.dim()}\")\n",
    "print(f\"x_data.dtype : {x_data.dtype}\")\n"
   ]
  },
  {
   "cell_type": "markdown",
   "metadata": {},
   "source": [
    "### type casting"
   ]
  },
  {
   "cell_type": "code",
   "execution_count": 3,
   "metadata": {},
   "outputs": [
    {
     "name": "stdout",
     "output_type": "stream",
     "text": [
      "x_data.dtype : torch.float64\n"
     ]
    }
   ],
   "source": [
    "# typecasting\n",
    "x_data = x_data.type(torch.float64)\n",
    "print(f\"x_data.dtype : {x_data.dtype}\")"
   ]
  },
  {
   "cell_type": "markdown",
   "metadata": {},
   "source": [
    "## From a NumPy array"
   ]
  },
  {
   "cell_type": "code",
   "execution_count": 4,
   "metadata": {},
   "outputs": [
    {
     "name": "stdout",
     "output_type": "stream",
     "text": [
      "np_array : [[1 2]\n",
      " [3 4]]\n",
      "np_array.dtype : int64\n",
      "x_np : tensor([[1, 2],\n",
      "        [3, 4]])\n",
      "x_np.dtype : torch.int64\n"
     ]
    }
   ],
   "source": [
    "np_array = np.array(data)\n",
    "print(f\"np_array : {np_array}\")\n",
    "print(f\"np_array.dtype : {np_array.dtype}\")\n",
    "\n",
    "x_np = torch.from_numpy(np_array)\n",
    "print(f\"x_np : {x_np}\") \n",
    "print(f\"x_np.dtype : {x_np.dtype}\")"
   ]
  },
  {
   "cell_type": "markdown",
   "metadata": {},
   "source": [
    "## From another tensor"
   ]
  },
  {
   "cell_type": "code",
   "execution_count": 5,
   "metadata": {},
   "outputs": [
    {
     "name": "stdout",
     "output_type": "stream",
     "text": [
      "x_ones : tensor([[1., 1.],\n",
      "        [1., 1.]], dtype=torch.float64)\n",
      "x_zeros : tensor([[0, 0],\n",
      "        [0, 0]])\n"
     ]
    }
   ],
   "source": [
    "x_ones = torch.ones_like(x_data)\n",
    "print(f\"x_ones : {x_ones}\")\n",
    "\n",
    "x_zeros = torch.zeros_like(x_data, dtype=torch.int64)\n",
    "print(f\"x_zeros : {x_zeros}\")"
   ]
  },
  {
   "cell_type": "markdown",
   "metadata": {},
   "source": [
    "## With random or constant values"
   ]
  },
  {
   "cell_type": "code",
   "execution_count": 6,
   "metadata": {},
   "outputs": [
    {
     "name": "stdout",
     "output_type": "stream",
     "text": [
      "rand_tensor : tensor([[0.4961, 0.7422, 0.3419],\n",
      "        [0.8327, 0.0481, 0.7910]])\n",
      "rand_tensor.shape : torch.Size([2, 3])\n",
      "rand_tensor.dim() : 2\n"
     ]
    }
   ],
   "source": [
    "shape = (2, 3, )\n",
    "rand_tensor = torch.rand(shape) # Returns a tensor filled with random numbers from a uniform distribution on the interval [0, 1)\n",
    "print(f\"rand_tensor : {rand_tensor}\")\n",
    "print(f\"rand_tensor.shape : {rand_tensor.shape}\")\n",
    "print(f\"rand_tensor.dim() : {rand_tensor.dim()}\")"
   ]
  },
  {
   "cell_type": "markdown",
   "metadata": {},
   "source": [
    "# Attributes of a Tensor"
   ]
  },
  {
   "cell_type": "code",
   "execution_count": 7,
   "metadata": {},
   "outputs": [
    {
     "name": "stdout",
     "output_type": "stream",
     "text": [
      "tensor : tensor([[-0.2411,  0.5289, -1.4285,  0.9778],\n",
      "        [ 1.0248,  1.1322, -1.5756, -0.3983],\n",
      "        [ 0.2263,  0.8178,  0.6105, -0.5955]])\n",
      "tensor.shape : torch.Size([3, 4])\n",
      "tensor.dim() : 2\n",
      "tensor.dtype : torch.float32\n",
      "tensor.device : cpu\n",
      "\n",
      "tensor.size() : torch.Size([3, 4])\n",
      "tensor.size(0) : 3\n",
      "tensor.size(1) : 4\n",
      "tensor.size(-1) : 4\n",
      "tensor.size(-1) : 3\n"
     ]
    }
   ],
   "source": [
    "shape = (3, 4)\n",
    "tensor = torch.randn(shape)# Returns a tensor filled with random numbers from a normal distribution with mean 0 and variance 1 (also called the standard normal distribution).\n",
    "\n",
    "print(f\"tensor : {tensor}\")\n",
    "print(f\"tensor.shape : {tensor.shape}\")\n",
    "print(f\"tensor.dim() : {tensor.dim()}\")\n",
    "print(f\"tensor.dtype : {tensor.dtype}\")\n",
    "print(f\"tensor.device : {tensor.device}\")\n",
    "\n",
    "\n",
    "print(\"\")\n",
    "\n",
    "print(f\"tensor.size() : {tensor.size()}\")\n",
    "print(f\"tensor.size(0) : {tensor.size(0)}\")\n",
    "print(f\"tensor.size(1) : {tensor.size(1)}\")\n",
    "print(f\"tensor.size(-1) : {tensor.size(-1)}\")\n",
    "print(f\"tensor.size(-1) : {tensor.size(-2)}\")\n"
   ]
  },
  {
   "cell_type": "markdown",
   "metadata": {},
   "source": [
    "# Operations on Tensors"
   ]
  },
  {
   "cell_type": "markdown",
   "metadata": {},
   "source": [
    "## GPU cuda"
   ]
  },
  {
   "cell_type": "code",
   "execution_count": 8,
   "metadata": {},
   "outputs": [
    {
     "name": "stdout",
     "output_type": "stream",
     "text": [
      "1.12.0\n",
      "torch.cuda.is_available() : True\n",
      "tensor.to('cpu').device : cpu\n"
     ]
    },
    {
     "name": "stdout",
     "output_type": "stream",
     "text": [
      "tensor.to('cuda').device : cuda:0\n"
     ]
    }
   ],
   "source": [
    "print(torch.__version__)\n",
    "print(f\"torch.cuda.is_available() : {torch.cuda.is_available()}\")\n",
    "\n",
    "if torch.cuda.is_available():\n",
    "    print(f\"tensor.to('cpu').device : {tensor.to('cpu').device}\")\n",
    "    print(f\"tensor.to('cuda').device : {tensor.to('cuda').device}\")"
   ]
  },
  {
   "cell_type": "markdown",
   "metadata": {},
   "source": [
    "## Indexing and Slicing"
   ]
  },
  {
   "cell_type": "code",
   "execution_count": 9,
   "metadata": {},
   "outputs": [
    {
     "name": "stdout",
     "output_type": "stream",
     "text": [
      "tensor([[ 0,  1,  2,  3],\n",
      "        [ 4,  5,  6,  7],\n",
      "        [ 8,  9, 10, 11],\n",
      "        [12, 13, 14, 15]])\n",
      "First row : tensor([0, 1, 2, 3])\n",
      "First column : tensor([ 0,  4,  8, 12])\n",
      "Last column : tensor([ 3,  7, 11, 15])\n",
      "tensor([[ 0,  0,  2,  3],\n",
      "        [ 4,  0,  6,  7],\n",
      "        [ 8,  0, 10, 11],\n",
      "        [12,  0, 14, 15]])\n"
     ]
    }
   ],
   "source": [
    "tensor = torch.arange(16).reshape(4, 4)\n",
    "print(f\"{tensor}\")\n",
    "print(f\"First row : {tensor[0, :]}\")\n",
    "print(f\"First column : {tensor[:, 0]}\")\n",
    "print(f\"Last column : {tensor[:, -1]}\")\n",
    "\n",
    "tensor[:, 1] = 0\n",
    "print(f\"{tensor}\")"
   ]
  },
  {
   "cell_type": "code",
   "execution_count": 10,
   "metadata": {},
   "outputs": [
    {
     "name": "stdout",
     "output_type": "stream",
     "text": [
      "t1 : tensor([[ 0,  0,  2,  3],\n",
      "        [ 4,  0,  6,  7],\n",
      "        [ 8,  0, 10, 11],\n",
      "        [12,  0, 14, 15],\n",
      "        [ 0,  0,  2,  3],\n",
      "        [ 4,  0,  6,  7],\n",
      "        [ 8,  0, 10, 11],\n",
      "        [12,  0, 14, 15]])\n",
      "t2 : tensor([[ 0,  0,  2,  3,  0,  0,  2,  3,  0,  0,  2,  3],\n",
      "        [ 4,  0,  6,  7,  4,  0,  6,  7,  4,  0,  6,  7],\n",
      "        [ 8,  0, 10, 11,  8,  0, 10, 11,  8,  0, 10, 11],\n",
      "        [12,  0, 14, 15, 12,  0, 14, 15, 12,  0, 14, 15]])\n"
     ]
    }
   ],
   "source": [
    "t1 = torch.cat([tensor, tensor], dim=0)\n",
    "t2 = torch.cat([tensor, tensor, tensor], dim=1)\n",
    "\n",
    "print(f\"t1 : {t1}\")\n",
    "print(f\"t2 : {t2}\")"
   ]
  },
  {
   "cell_type": "markdown",
   "metadata": {},
   "source": [
    "## Arithmetic operations"
   ]
  },
  {
   "cell_type": "markdown",
   "metadata": {},
   "source": [
    "### Matrix Multiplication"
   ]
  },
  {
   "cell_type": "code",
   "execution_count": 11,
   "metadata": {},
   "outputs": [
    {
     "name": "stdout",
     "output_type": "stream",
     "text": [
      "tensor([[1.0720, 1.0169, 0.6349, 0.6529],\n",
      "        [1.0169, 1.0306, 0.7810, 0.6758],\n",
      "        [0.6349, 0.7810, 0.8962, 0.6898],\n",
      "        [0.6529, 0.6758, 0.6898, 1.0733]])\n",
      "tensor([[1.0720, 1.0169, 0.6349, 0.6529],\n",
      "        [1.0169, 1.0306, 0.7810, 0.6758],\n",
      "        [0.6349, 0.7810, 0.8962, 0.6898],\n",
      "        [0.6529, 0.6758, 0.6898, 1.0733]])\n",
      "tensor([[1.0720, 1.0169, 0.6349, 0.6529],\n",
      "        [1.0169, 1.0306, 0.7810, 0.6758],\n",
      "        [0.6349, 0.7810, 0.8962, 0.6898],\n",
      "        [0.6529, 0.6758, 0.6898, 1.0733]])\n"
     ]
    }
   ],
   "source": [
    "tensor = torch.rand(4, 4)\n",
    "y1 = tensor @ tensor.T # matrix multiplication\n",
    "y2 = tensor.matmul(tensor.T) # same result as above\n",
    "y3 = torch.rand_like(y1)\n",
    "torch.matmul(tensor, tensor.T, out=y3)\n",
    "\n",
    "print(y1)\n",
    "print(y2)\n",
    "print(y3)"
   ]
  },
  {
   "cell_type": "markdown",
   "metadata": {},
   "source": [
    "### Element-wise product"
   ]
  },
  {
   "cell_type": "code",
   "execution_count": 12,
   "metadata": {},
   "outputs": [
    {
     "name": "stdout",
     "output_type": "stream",
     "text": [
      "tensor([[0.0489, 0.6058, 0.3310, 0.0863],\n",
      "        [0.1209, 0.3422, 0.4064, 0.1612],\n",
      "        [0.4316, 0.0079, 0.2468, 0.2098],\n",
      "        [0.7891, 0.2749, 0.0016, 0.0076]])\n",
      "tensor([[0.0489, 0.6058, 0.3310, 0.0863],\n",
      "        [0.1209, 0.3422, 0.4064, 0.1612],\n",
      "        [0.4316, 0.0079, 0.2468, 0.2098],\n",
      "        [0.7891, 0.2749, 0.0016, 0.0076]])\n",
      "tensor([[0.0489, 0.6058, 0.3310, 0.0863],\n",
      "        [0.1209, 0.3422, 0.4064, 0.1612],\n",
      "        [0.4316, 0.0079, 0.2468, 0.2098],\n",
      "        [0.7891, 0.2749, 0.0016, 0.0076]])\n"
     ]
    }
   ],
   "source": [
    "z1 = tensor * tensor # element-wise multiplication\n",
    "z2 = tensor.mul(tensor) # same result as above\n",
    "z3 = torch.rand_like(tensor)\n",
    "torch.mul(tensor, tensor, out=z3)\n",
    "\n",
    "print(z1)\n",
    "print(z2)\n",
    "print(z3)"
   ]
  },
  {
   "cell_type": "markdown",
   "metadata": {},
   "source": [
    "## Single-element tensors : item()\n",
    "\n",
    "* If you have a one-element tensor, for example by aggregating all values of a tensor into one value, you can convert it to a Python numerical value using item():"
   ]
  },
  {
   "cell_type": "code",
   "execution_count": 13,
   "metadata": {},
   "outputs": [
    {
     "name": "stdout",
     "output_type": "stream",
     "text": [
      "tensor(8.5807)\n",
      "8.58067512512207 <class 'float'>\n"
     ]
    }
   ],
   "source": [
    "tensor = torch.rand(4, 4)\n",
    "\n",
    "agg = tensor.sum()\n",
    "print(agg)\n",
    "\n",
    "agg_item = agg.item()\n",
    "print(agg_item, type(agg_item))"
   ]
  },
  {
   "cell_type": "markdown",
   "metadata": {},
   "source": [
    "## In-place operations\n",
    "\n",
    "* Operations that store the result into the operand are called in-place. They are denoted by a _ suffix. For example: x.copy_(y), x.t_(), will change x."
   ]
  },
  {
   "cell_type": "code",
   "execution_count": 14,
   "metadata": {},
   "outputs": [
    {
     "name": "stdout",
     "output_type": "stream",
     "text": [
      "tensor([[1., 0., 1., 1.],\n",
      "        [1., 0., 1., 1.],\n",
      "        [1., 0., 1., 1.],\n",
      "        [1., 0., 1., 1.]])\n",
      "tensor([[6., 5., 6., 6.],\n",
      "        [6., 5., 6., 6.],\n",
      "        [6., 5., 6., 6.],\n",
      "        [6., 5., 6., 6.]])\n"
     ]
    }
   ],
   "source": [
    "tensor = torch.ones(4, 4)\n",
    "tensor[:, 1] = 0\n",
    "print(tensor)\n",
    "\n",
    "tensor.add_(5)\n",
    "print(tensor)"
   ]
  },
  {
   "cell_type": "markdown",
   "metadata": {},
   "source": [
    "# Bridge with Numpy"
   ]
  },
  {
   "cell_type": "markdown",
   "metadata": {},
   "source": [
    "## Tensor to NumPy array"
   ]
  },
  {
   "cell_type": "code",
   "execution_count": 18,
   "metadata": {},
   "outputs": [
    {
     "name": "stdout",
     "output_type": "stream",
     "text": [
      "t1 : tensor([1., 1., 1., 1., 1.])\n",
      "n : [1. 1. 1. 1. 1.]\n"
     ]
    }
   ],
   "source": [
    "t1 = torch.ones(5)\n",
    "print(f\"t1 : {t1}\")\n",
    "\n",
    "n = t1.numpy()\n",
    "print(f\"n : {n}\")"
   ]
  },
  {
   "cell_type": "code",
   "execution_count": 19,
   "metadata": {},
   "outputs": [
    {
     "name": "stdout",
     "output_type": "stream",
     "text": [
      "t1 : tensor([2., 2., 2., 2., 2.])\n",
      "n : [2. 2. 2. 2. 2.]\n"
     ]
    }
   ],
   "source": [
    "t1.add_(1)\n",
    "print(f\"t1 : {t1}\")  \n",
    "print(f\"n : {n}\")  "
   ]
  },
  {
   "cell_type": "markdown",
   "metadata": {},
   "source": [
    "## NumPy array to Tensor"
   ]
  },
  {
   "cell_type": "code",
   "execution_count": 21,
   "metadata": {},
   "outputs": [
    {
     "name": "stdout",
     "output_type": "stream",
     "text": [
      "n : [1. 1. 1. 1. 1.]\n",
      "t : tensor([1., 1., 1., 1., 1.], dtype=torch.float64)\n"
     ]
    }
   ],
   "source": [
    "n = np.ones(5)\n",
    "t = torch.from_numpy(n)\n",
    "\n",
    "print(f\"n : {n}\")\n",
    "print(f\"t : {t}\")"
   ]
  },
  {
   "cell_type": "code",
   "execution_count": 22,
   "metadata": {},
   "outputs": [
    {
     "name": "stdout",
     "output_type": "stream",
     "text": [
      "n : [2. 2. 2. 2. 2.]\n",
      "t : tensor([2., 2., 2., 2., 2.], dtype=torch.float64)\n"
     ]
    }
   ],
   "source": [
    "np.add(n, 1, out=n)\n",
    "print(f\"n : {n}\")\n",
    "print(f\"t : {t}\")"
   ]
  },
  {
   "cell_type": "code",
   "execution_count": null,
   "metadata": {},
   "outputs": [],
   "source": []
  }
 ],
 "metadata": {
  "kernelspec": {
   "display_name": "base",
   "language": "python",
   "name": "python3"
  },
  "language_info": {
   "codemirror_mode": {
    "name": "ipython",
    "version": 3
   },
   "file_extension": ".py",
   "mimetype": "text/x-python",
   "name": "python",
   "nbconvert_exporter": "python",
   "pygments_lexer": "ipython3",
   "version": "3.9.18"
  }
 },
 "nbformat": 4,
 "nbformat_minor": 2
}
